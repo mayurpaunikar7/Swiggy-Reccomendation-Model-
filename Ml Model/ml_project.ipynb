{
  "nbformat": 4,
  "nbformat_minor": 0,
  "metadata": {
    "colab": {
      "provenance": []
    },
    "kernelspec": {
      "name": "python3",
      "display_name": "Python 3"
    },
    "language_info": {
      "name": "python"
    }
  },
  "cells": [
    {
      "cell_type": "code",
      "execution_count": 3,
      "metadata": {
        "id": "pcyFf67P8bFE"
      },
      "outputs": [],
      "source": [
        "import pandas as pd\n",
        "import numpy as np"
      ]
    },
    {
      "cell_type": "code",
      "source": [
        "path='/content/Swiggy Table 1.csv'\n",
        "df1=pd.read_csv(path)\n",
        "df1.shape"
      ],
      "metadata": {
        "colab": {
          "base_uri": "https://localhost:8080/"
        },
        "id": "ImxzJl848i1F",
        "outputId": "89e8761c-28ab-4885-f217-6496b80c002a"
      },
      "execution_count": 4,
      "outputs": [
        {
          "output_type": "execute_result",
          "data": {
            "text/plain": [
              "(543, 6)"
            ]
          },
          "metadata": {},
          "execution_count": 4
        }
      ]
    },
    {
      "cell_type": "code",
      "source": [
        "path='/content/Table2_Raw_data.csv'\n",
        "df2=pd.read_csv(path)\n",
        "df2.head()"
      ],
      "metadata": {
        "colab": {
          "base_uri": "https://localhost:8080/",
          "height": 441
        },
        "id": "zd7Op7wa8pA4",
        "outputId": "20f9bf60-fcc5-4121-8d3d-c95a1beae763"
      },
      "execution_count": 5,
      "outputs": [
        {
          "output_type": "execute_result",
          "data": {
            "text/plain": [
              "   Restaurant_id                            Restaurant_Name  \\\n",
              "0         667962  Paris Panini - Gourmet Sandwiches & Wraps   \n",
              "1         667962  Paris Panini - Gourmet Sandwiches & Wraps   \n",
              "2         667962  Paris Panini - Gourmet Sandwiches & Wraps   \n",
              "3         667962  Paris Panini - Gourmet Sandwiches & Wraps   \n",
              "4         667962  Paris Panini - Gourmet Sandwiches & Wraps   \n",
              "\n",
              "            location                            dish_name  Price  Review_count  \n",
              "0  Central Bangalore          Deviled Egg & Sriracha Wrap  340.0  500+ ratings  \n",
              "1  Central Bangalore      Fried Chicken & Mozzarella Wrap  420.0  500+ ratings  \n",
              "2  Central Bangalore  Peri-Peri Chicken & Mozzarella Wrap  380.0  500+ ratings  \n",
              "3  Central Bangalore      Sophie (Feta & Olives Sandwich)  195.0  500+ ratings  \n",
              "4  Central Bangalore   Estelle (Veggies & Mozza Sandwich)  205.0  500+ ratings  "
            ],
            "text/html": [
              "\n",
              "\n",
              "  <div id=\"df-7e1d2ed3-9025-415c-aea2-678ceb7aeaea\">\n",
              "    <div class=\"colab-df-container\">\n",
              "      <div>\n",
              "<style scoped>\n",
              "    .dataframe tbody tr th:only-of-type {\n",
              "        vertical-align: middle;\n",
              "    }\n",
              "\n",
              "    .dataframe tbody tr th {\n",
              "        vertical-align: top;\n",
              "    }\n",
              "\n",
              "    .dataframe thead th {\n",
              "        text-align: right;\n",
              "    }\n",
              "</style>\n",
              "<table border=\"1\" class=\"dataframe\">\n",
              "  <thead>\n",
              "    <tr style=\"text-align: right;\">\n",
              "      <th></th>\n",
              "      <th>Restaurant_id</th>\n",
              "      <th>Restaurant_Name</th>\n",
              "      <th>location</th>\n",
              "      <th>dish_name</th>\n",
              "      <th>Price</th>\n",
              "      <th>Review_count</th>\n",
              "    </tr>\n",
              "  </thead>\n",
              "  <tbody>\n",
              "    <tr>\n",
              "      <th>0</th>\n",
              "      <td>667962</td>\n",
              "      <td>Paris Panini - Gourmet Sandwiches &amp; Wraps</td>\n",
              "      <td>Central Bangalore</td>\n",
              "      <td>Deviled Egg &amp; Sriracha Wrap</td>\n",
              "      <td>340.0</td>\n",
              "      <td>500+ ratings</td>\n",
              "    </tr>\n",
              "    <tr>\n",
              "      <th>1</th>\n",
              "      <td>667962</td>\n",
              "      <td>Paris Panini - Gourmet Sandwiches &amp; Wraps</td>\n",
              "      <td>Central Bangalore</td>\n",
              "      <td>Fried Chicken &amp; Mozzarella Wrap</td>\n",
              "      <td>420.0</td>\n",
              "      <td>500+ ratings</td>\n",
              "    </tr>\n",
              "    <tr>\n",
              "      <th>2</th>\n",
              "      <td>667962</td>\n",
              "      <td>Paris Panini - Gourmet Sandwiches &amp; Wraps</td>\n",
              "      <td>Central Bangalore</td>\n",
              "      <td>Peri-Peri Chicken &amp; Mozzarella Wrap</td>\n",
              "      <td>380.0</td>\n",
              "      <td>500+ ratings</td>\n",
              "    </tr>\n",
              "    <tr>\n",
              "      <th>3</th>\n",
              "      <td>667962</td>\n",
              "      <td>Paris Panini - Gourmet Sandwiches &amp; Wraps</td>\n",
              "      <td>Central Bangalore</td>\n",
              "      <td>Sophie (Feta &amp; Olives Sandwich)</td>\n",
              "      <td>195.0</td>\n",
              "      <td>500+ ratings</td>\n",
              "    </tr>\n",
              "    <tr>\n",
              "      <th>4</th>\n",
              "      <td>667962</td>\n",
              "      <td>Paris Panini - Gourmet Sandwiches &amp; Wraps</td>\n",
              "      <td>Central Bangalore</td>\n",
              "      <td>Estelle (Veggies &amp; Mozza Sandwich)</td>\n",
              "      <td>205.0</td>\n",
              "      <td>500+ ratings</td>\n",
              "    </tr>\n",
              "  </tbody>\n",
              "</table>\n",
              "</div>\n",
              "      <button class=\"colab-df-convert\" onclick=\"convertToInteractive('df-7e1d2ed3-9025-415c-aea2-678ceb7aeaea')\"\n",
              "              title=\"Convert this dataframe to an interactive table.\"\n",
              "              style=\"display:none;\">\n",
              "\n",
              "  <svg xmlns=\"http://www.w3.org/2000/svg\" height=\"24px\"viewBox=\"0 0 24 24\"\n",
              "       width=\"24px\">\n",
              "    <path d=\"M0 0h24v24H0V0z\" fill=\"none\"/>\n",
              "    <path d=\"M18.56 5.44l.94 2.06.94-2.06 2.06-.94-2.06-.94-.94-2.06-.94 2.06-2.06.94zm-11 1L8.5 8.5l.94-2.06 2.06-.94-2.06-.94L8.5 2.5l-.94 2.06-2.06.94zm10 10l.94 2.06.94-2.06 2.06-.94-2.06-.94-.94-2.06-.94 2.06-2.06.94z\"/><path d=\"M17.41 7.96l-1.37-1.37c-.4-.4-.92-.59-1.43-.59-.52 0-1.04.2-1.43.59L10.3 9.45l-7.72 7.72c-.78.78-.78 2.05 0 2.83L4 21.41c.39.39.9.59 1.41.59.51 0 1.02-.2 1.41-.59l7.78-7.78 2.81-2.81c.8-.78.8-2.07 0-2.86zM5.41 20L4 18.59l7.72-7.72 1.47 1.35L5.41 20z\"/>\n",
              "  </svg>\n",
              "      </button>\n",
              "\n",
              "\n",
              "\n",
              "    <div id=\"df-aa831f3e-ae85-459a-99d5-91df47c669e5\">\n",
              "      <button class=\"colab-df-quickchart\" onclick=\"quickchart('df-aa831f3e-ae85-459a-99d5-91df47c669e5')\"\n",
              "              title=\"Suggest charts.\"\n",
              "              style=\"display:none;\">\n",
              "\n",
              "<svg xmlns=\"http://www.w3.org/2000/svg\" height=\"24px\"viewBox=\"0 0 24 24\"\n",
              "     width=\"24px\">\n",
              "    <g>\n",
              "        <path d=\"M19 3H5c-1.1 0-2 .9-2 2v14c0 1.1.9 2 2 2h14c1.1 0 2-.9 2-2V5c0-1.1-.9-2-2-2zM9 17H7v-7h2v7zm4 0h-2V7h2v10zm4 0h-2v-4h2v4z\"/>\n",
              "    </g>\n",
              "</svg>\n",
              "      </button>\n",
              "    </div>\n",
              "\n",
              "<style>\n",
              "  .colab-df-quickchart {\n",
              "    background-color: #E8F0FE;\n",
              "    border: none;\n",
              "    border-radius: 50%;\n",
              "    cursor: pointer;\n",
              "    display: none;\n",
              "    fill: #1967D2;\n",
              "    height: 32px;\n",
              "    padding: 0 0 0 0;\n",
              "    width: 32px;\n",
              "  }\n",
              "\n",
              "  .colab-df-quickchart:hover {\n",
              "    background-color: #E2EBFA;\n",
              "    box-shadow: 0px 1px 2px rgba(60, 64, 67, 0.3), 0px 1px 3px 1px rgba(60, 64, 67, 0.15);\n",
              "    fill: #174EA6;\n",
              "  }\n",
              "\n",
              "  [theme=dark] .colab-df-quickchart {\n",
              "    background-color: #3B4455;\n",
              "    fill: #D2E3FC;\n",
              "  }\n",
              "\n",
              "  [theme=dark] .colab-df-quickchart:hover {\n",
              "    background-color: #434B5C;\n",
              "    box-shadow: 0px 1px 3px 1px rgba(0, 0, 0, 0.15);\n",
              "    filter: drop-shadow(0px 1px 2px rgba(0, 0, 0, 0.3));\n",
              "    fill: #FFFFFF;\n",
              "  }\n",
              "</style>\n",
              "\n",
              "    <script>\n",
              "      async function quickchart(key) {\n",
              "        const containerElement = document.querySelector('#' + key);\n",
              "        const charts = await google.colab.kernel.invokeFunction(\n",
              "            'suggestCharts', [key], {});\n",
              "      }\n",
              "    </script>\n",
              "\n",
              "      <script>\n",
              "\n",
              "function displayQuickchartButton(domScope) {\n",
              "  let quickchartButtonEl =\n",
              "    domScope.querySelector('#df-aa831f3e-ae85-459a-99d5-91df47c669e5 button.colab-df-quickchart');\n",
              "  quickchartButtonEl.style.display =\n",
              "    google.colab.kernel.accessAllowed ? 'block' : 'none';\n",
              "}\n",
              "\n",
              "        displayQuickchartButton(document);\n",
              "      </script>\n",
              "      <style>\n",
              "    .colab-df-container {\n",
              "      display:flex;\n",
              "      flex-wrap:wrap;\n",
              "      gap: 12px;\n",
              "    }\n",
              "\n",
              "    .colab-df-convert {\n",
              "      background-color: #E8F0FE;\n",
              "      border: none;\n",
              "      border-radius: 50%;\n",
              "      cursor: pointer;\n",
              "      display: none;\n",
              "      fill: #1967D2;\n",
              "      height: 32px;\n",
              "      padding: 0 0 0 0;\n",
              "      width: 32px;\n",
              "    }\n",
              "\n",
              "    .colab-df-convert:hover {\n",
              "      background-color: #E2EBFA;\n",
              "      box-shadow: 0px 1px 2px rgba(60, 64, 67, 0.3), 0px 1px 3px 1px rgba(60, 64, 67, 0.15);\n",
              "      fill: #174EA6;\n",
              "    }\n",
              "\n",
              "    [theme=dark] .colab-df-convert {\n",
              "      background-color: #3B4455;\n",
              "      fill: #D2E3FC;\n",
              "    }\n",
              "\n",
              "    [theme=dark] .colab-df-convert:hover {\n",
              "      background-color: #434B5C;\n",
              "      box-shadow: 0px 1px 3px 1px rgba(0, 0, 0, 0.15);\n",
              "      filter: drop-shadow(0px 1px 2px rgba(0, 0, 0, 0.3));\n",
              "      fill: #FFFFFF;\n",
              "    }\n",
              "  </style>\n",
              "\n",
              "      <script>\n",
              "        const buttonEl =\n",
              "          document.querySelector('#df-7e1d2ed3-9025-415c-aea2-678ceb7aeaea button.colab-df-convert');\n",
              "        buttonEl.style.display =\n",
              "          google.colab.kernel.accessAllowed ? 'block' : 'none';\n",
              "\n",
              "        async function convertToInteractive(key) {\n",
              "          const element = document.querySelector('#df-7e1d2ed3-9025-415c-aea2-678ceb7aeaea');\n",
              "          const dataTable =\n",
              "            await google.colab.kernel.invokeFunction('convertToInteractive',\n",
              "                                                     [key], {});\n",
              "          if (!dataTable) return;\n",
              "\n",
              "          const docLinkHtml = 'Like what you see? Visit the ' +\n",
              "            '<a target=\"_blank\" href=https://colab.research.google.com/notebooks/data_table.ipynb>data table notebook</a>'\n",
              "            + ' to learn more about interactive tables.';\n",
              "          element.innerHTML = '';\n",
              "          dataTable['output_type'] = 'display_data';\n",
              "          await google.colab.output.renderOutput(dataTable, element);\n",
              "          const docLink = document.createElement('div');\n",
              "          docLink.innerHTML = docLinkHtml;\n",
              "          element.appendChild(docLink);\n",
              "        }\n",
              "      </script>\n",
              "    </div>\n",
              "  </div>\n"
            ]
          },
          "metadata": {},
          "execution_count": 5
        }
      ]
    },
    {
      "cell_type": "code",
      "source": [
        "df=pd.merge(df1,df2,how='inner',on='Restaurant_id')"
      ],
      "metadata": {
        "id": "zlF1stKe8xs-"
      },
      "execution_count": 6,
      "outputs": []
    },
    {
      "cell_type": "code",
      "source": [],
      "metadata": {
        "id": "D4wgYwyZV6FO"
      },
      "execution_count": null,
      "outputs": []
    },
    {
      "cell_type": "code",
      "source": [],
      "metadata": {
        "id": "ofU3spPcV6B1"
      },
      "execution_count": null,
      "outputs": []
    },
    {
      "cell_type": "code",
      "source": [
        "df.shape"
      ],
      "metadata": {
        "colab": {
          "base_uri": "https://localhost:8080/"
        },
        "id": "NbeiJf1O85jl",
        "outputId": "09dedec1-23e2-40e1-da8e-97954ee85f4d"
      },
      "execution_count": 5,
      "outputs": [
        {
          "output_type": "execute_result",
          "data": {
            "text/plain": [
              "(7232, 11)"
            ]
          },
          "metadata": {},
          "execution_count": 5
        }
      ]
    },
    {
      "cell_type": "code",
      "source": [
        "df.drop_duplicates(inplace=True)"
      ],
      "metadata": {
        "id": "pTHymq9__LWq"
      },
      "execution_count": 6,
      "outputs": []
    },
    {
      "cell_type": "code",
      "source": [
        "df=df[df['Review_count']!=0]"
      ],
      "metadata": {
        "id": "IqnKKsgT_RKS"
      },
      "execution_count": 7,
      "outputs": []
    },
    {
      "cell_type": "code",
      "source": [
        "df"
      ],
      "metadata": {
        "id": "xQl3tSRE_ODZ",
        "colab": {
          "base_uri": "https://localhost:8080/",
          "height": 1000
        },
        "outputId": "e16de296-a7d9-459e-ac7e-cab141fc8ded"
      },
      "execution_count": 8,
      "outputs": [
        {
          "output_type": "execute_result",
          "data": {
            "text/plain": [
              "      Restaurant_id                                    Restaurant_link  \\\n",
              "0            667962  https://www.swiggy.com/restaurants/paris-panin...   \n",
              "1            667962  https://www.swiggy.com/restaurants/paris-panin...   \n",
              "2            667962  https://www.swiggy.com/restaurants/paris-panin...   \n",
              "3            667962  https://www.swiggy.com/restaurants/paris-panin...   \n",
              "4            667962  https://www.swiggy.com/restaurants/paris-panin...   \n",
              "...             ...                                                ...   \n",
              "7227         534654  https://www.swiggy.com/restaurants/the-licious...   \n",
              "7228         534654  https://www.swiggy.com/restaurants/the-licious...   \n",
              "7229         534654  https://www.swiggy.com/restaurants/the-licious...   \n",
              "7230         534654  https://www.swiggy.com/restaurants/the-licious...   \n",
              "7231         534654  https://www.swiggy.com/restaurants/the-licious...   \n",
              "\n",
              "                                 Retaurant Name Rating price_for_one_two  \\\n",
              "0     Paris Panini - Gourmet Sandwiches & Wraps    4.5      ₹500 FOR TWO   \n",
              "1     Paris Panini - Gourmet Sandwiches & Wraps    4.5      ₹500 FOR TWO   \n",
              "2     Paris Panini - Gourmet Sandwiches & Wraps    4.5      ₹500 FOR TWO   \n",
              "3     Paris Panini - Gourmet Sandwiches & Wraps    4.5      ₹500 FOR TWO   \n",
              "4     Paris Panini - Gourmet Sandwiches & Wraps    4.5      ₹500 FOR TWO   \n",
              "...                                         ...    ...               ...   \n",
              "7227                        The Licious Kitchen    4.2      ₹350 FOR TWO   \n",
              "7228                        The Licious Kitchen    4.2      ₹350 FOR TWO   \n",
              "7229                        The Licious Kitchen    4.2      ₹350 FOR TWO   \n",
              "7230                        The Licious Kitchen    4.2      ₹350 FOR TWO   \n",
              "7231                        The Licious Kitchen    4.2      ₹350 FOR TWO   \n",
              "\n",
              "                                               Cousines  \\\n",
              "0     Continental, Pastas, Salads, Snacks, Desserts,...   \n",
              "1     Continental, Pastas, Salads, Snacks, Desserts,...   \n",
              "2     Continental, Pastas, Salads, Snacks, Desserts,...   \n",
              "3     Continental, Pastas, Salads, Snacks, Desserts,...   \n",
              "4     Continental, Pastas, Salads, Snacks, Desserts,...   \n",
              "...                                                 ...   \n",
              "7227   Kebabs, Snacks, Tandoor, North Indian, Beverages   \n",
              "7228   Kebabs, Snacks, Tandoor, North Indian, Beverages   \n",
              "7229   Kebabs, Snacks, Tandoor, North Indian, Beverages   \n",
              "7230   Kebabs, Snacks, Tandoor, North Indian, Beverages   \n",
              "7231   Kebabs, Snacks, Tandoor, North Indian, Beverages   \n",
              "\n",
              "                                Restaurant_Name           location  \\\n",
              "0     Paris Panini - Gourmet Sandwiches & Wraps  Central Bangalore   \n",
              "1     Paris Panini - Gourmet Sandwiches & Wraps  Central Bangalore   \n",
              "2     Paris Panini - Gourmet Sandwiches & Wraps  Central Bangalore   \n",
              "3     Paris Panini - Gourmet Sandwiches & Wraps  Central Bangalore   \n",
              "4     Paris Panini - Gourmet Sandwiches & Wraps  Central Bangalore   \n",
              "...                                         ...                ...   \n",
              "7227                        The Licious Kitchen        Koramangala   \n",
              "7228                        The Licious Kitchen        Koramangala   \n",
              "7229                        The Licious Kitchen        Koramangala   \n",
              "7230                        The Licious Kitchen        Koramangala   \n",
              "7231                        The Licious Kitchen        Koramangala   \n",
              "\n",
              "                                dish_name  Price  Review_count  \n",
              "0             Deviled Egg & Sriracha Wrap  340.0  500+ ratings  \n",
              "1         Fried Chicken & Mozzarella Wrap  420.0  500+ ratings  \n",
              "2     Peri-Peri Chicken & Mozzarella Wrap  380.0  500+ ratings  \n",
              "3         Sophie (Feta & Olives Sandwich)  195.0  500+ ratings  \n",
              "4      Estelle (Veggies & Mozza Sandwich)  205.0  500+ ratings  \n",
              "...                                   ...    ...           ...  \n",
              "7227           Peri Peri Chicken (4+ Pcs)  369.0   1K+ ratings  \n",
              "7228       Chilli Garlic Prawns (14+ Pcs)  499.0   1K+ ratings  \n",
              "7229                Crispy Prawns(10 Pcs)  419.0   1K+ ratings  \n",
              "7230                 Wheat Laccha Paratha   25.0   1K+ ratings  \n",
              "7231             Tandoori Chicken (4 Pcs)  279.0   1K+ ratings  \n",
              "\n",
              "[5584 rows x 11 columns]"
            ],
            "text/html": [
              "\n",
              "\n",
              "  <div id=\"df-6f88eabe-e27a-4591-bcf4-62a57c3e506c\">\n",
              "    <div class=\"colab-df-container\">\n",
              "      <div>\n",
              "<style scoped>\n",
              "    .dataframe tbody tr th:only-of-type {\n",
              "        vertical-align: middle;\n",
              "    }\n",
              "\n",
              "    .dataframe tbody tr th {\n",
              "        vertical-align: top;\n",
              "    }\n",
              "\n",
              "    .dataframe thead th {\n",
              "        text-align: right;\n",
              "    }\n",
              "</style>\n",
              "<table border=\"1\" class=\"dataframe\">\n",
              "  <thead>\n",
              "    <tr style=\"text-align: right;\">\n",
              "      <th></th>\n",
              "      <th>Restaurant_id</th>\n",
              "      <th>Restaurant_link</th>\n",
              "      <th>Retaurant Name</th>\n",
              "      <th>Rating</th>\n",
              "      <th>price_for_one_two</th>\n",
              "      <th>Cousines</th>\n",
              "      <th>Restaurant_Name</th>\n",
              "      <th>location</th>\n",
              "      <th>dish_name</th>\n",
              "      <th>Price</th>\n",
              "      <th>Review_count</th>\n",
              "    </tr>\n",
              "  </thead>\n",
              "  <tbody>\n",
              "    <tr>\n",
              "      <th>0</th>\n",
              "      <td>667962</td>\n",
              "      <td>https://www.swiggy.com/restaurants/paris-panin...</td>\n",
              "      <td>Paris Panini - Gourmet Sandwiches &amp; Wraps</td>\n",
              "      <td>4.5</td>\n",
              "      <td>₹500 FOR TWO</td>\n",
              "      <td>Continental, Pastas, Salads, Snacks, Desserts,...</td>\n",
              "      <td>Paris Panini - Gourmet Sandwiches &amp; Wraps</td>\n",
              "      <td>Central Bangalore</td>\n",
              "      <td>Deviled Egg &amp; Sriracha Wrap</td>\n",
              "      <td>340.0</td>\n",
              "      <td>500+ ratings</td>\n",
              "    </tr>\n",
              "    <tr>\n",
              "      <th>1</th>\n",
              "      <td>667962</td>\n",
              "      <td>https://www.swiggy.com/restaurants/paris-panin...</td>\n",
              "      <td>Paris Panini - Gourmet Sandwiches &amp; Wraps</td>\n",
              "      <td>4.5</td>\n",
              "      <td>₹500 FOR TWO</td>\n",
              "      <td>Continental, Pastas, Salads, Snacks, Desserts,...</td>\n",
              "      <td>Paris Panini - Gourmet Sandwiches &amp; Wraps</td>\n",
              "      <td>Central Bangalore</td>\n",
              "      <td>Fried Chicken &amp; Mozzarella Wrap</td>\n",
              "      <td>420.0</td>\n",
              "      <td>500+ ratings</td>\n",
              "    </tr>\n",
              "    <tr>\n",
              "      <th>2</th>\n",
              "      <td>667962</td>\n",
              "      <td>https://www.swiggy.com/restaurants/paris-panin...</td>\n",
              "      <td>Paris Panini - Gourmet Sandwiches &amp; Wraps</td>\n",
              "      <td>4.5</td>\n",
              "      <td>₹500 FOR TWO</td>\n",
              "      <td>Continental, Pastas, Salads, Snacks, Desserts,...</td>\n",
              "      <td>Paris Panini - Gourmet Sandwiches &amp; Wraps</td>\n",
              "      <td>Central Bangalore</td>\n",
              "      <td>Peri-Peri Chicken &amp; Mozzarella Wrap</td>\n",
              "      <td>380.0</td>\n",
              "      <td>500+ ratings</td>\n",
              "    </tr>\n",
              "    <tr>\n",
              "      <th>3</th>\n",
              "      <td>667962</td>\n",
              "      <td>https://www.swiggy.com/restaurants/paris-panin...</td>\n",
              "      <td>Paris Panini - Gourmet Sandwiches &amp; Wraps</td>\n",
              "      <td>4.5</td>\n",
              "      <td>₹500 FOR TWO</td>\n",
              "      <td>Continental, Pastas, Salads, Snacks, Desserts,...</td>\n",
              "      <td>Paris Panini - Gourmet Sandwiches &amp; Wraps</td>\n",
              "      <td>Central Bangalore</td>\n",
              "      <td>Sophie (Feta &amp; Olives Sandwich)</td>\n",
              "      <td>195.0</td>\n",
              "      <td>500+ ratings</td>\n",
              "    </tr>\n",
              "    <tr>\n",
              "      <th>4</th>\n",
              "      <td>667962</td>\n",
              "      <td>https://www.swiggy.com/restaurants/paris-panin...</td>\n",
              "      <td>Paris Panini - Gourmet Sandwiches &amp; Wraps</td>\n",
              "      <td>4.5</td>\n",
              "      <td>₹500 FOR TWO</td>\n",
              "      <td>Continental, Pastas, Salads, Snacks, Desserts,...</td>\n",
              "      <td>Paris Panini - Gourmet Sandwiches &amp; Wraps</td>\n",
              "      <td>Central Bangalore</td>\n",
              "      <td>Estelle (Veggies &amp; Mozza Sandwich)</td>\n",
              "      <td>205.0</td>\n",
              "      <td>500+ ratings</td>\n",
              "    </tr>\n",
              "    <tr>\n",
              "      <th>...</th>\n",
              "      <td>...</td>\n",
              "      <td>...</td>\n",
              "      <td>...</td>\n",
              "      <td>...</td>\n",
              "      <td>...</td>\n",
              "      <td>...</td>\n",
              "      <td>...</td>\n",
              "      <td>...</td>\n",
              "      <td>...</td>\n",
              "      <td>...</td>\n",
              "      <td>...</td>\n",
              "    </tr>\n",
              "    <tr>\n",
              "      <th>7227</th>\n",
              "      <td>534654</td>\n",
              "      <td>https://www.swiggy.com/restaurants/the-licious...</td>\n",
              "      <td>The Licious Kitchen</td>\n",
              "      <td>4.2</td>\n",
              "      <td>₹350 FOR TWO</td>\n",
              "      <td>Kebabs, Snacks, Tandoor, North Indian, Beverages</td>\n",
              "      <td>The Licious Kitchen</td>\n",
              "      <td>Koramangala</td>\n",
              "      <td>Peri Peri Chicken (4+ Pcs)</td>\n",
              "      <td>369.0</td>\n",
              "      <td>1K+ ratings</td>\n",
              "    </tr>\n",
              "    <tr>\n",
              "      <th>7228</th>\n",
              "      <td>534654</td>\n",
              "      <td>https://www.swiggy.com/restaurants/the-licious...</td>\n",
              "      <td>The Licious Kitchen</td>\n",
              "      <td>4.2</td>\n",
              "      <td>₹350 FOR TWO</td>\n",
              "      <td>Kebabs, Snacks, Tandoor, North Indian, Beverages</td>\n",
              "      <td>The Licious Kitchen</td>\n",
              "      <td>Koramangala</td>\n",
              "      <td>Chilli Garlic Prawns (14+ Pcs)</td>\n",
              "      <td>499.0</td>\n",
              "      <td>1K+ ratings</td>\n",
              "    </tr>\n",
              "    <tr>\n",
              "      <th>7229</th>\n",
              "      <td>534654</td>\n",
              "      <td>https://www.swiggy.com/restaurants/the-licious...</td>\n",
              "      <td>The Licious Kitchen</td>\n",
              "      <td>4.2</td>\n",
              "      <td>₹350 FOR TWO</td>\n",
              "      <td>Kebabs, Snacks, Tandoor, North Indian, Beverages</td>\n",
              "      <td>The Licious Kitchen</td>\n",
              "      <td>Koramangala</td>\n",
              "      <td>Crispy Prawns(10 Pcs)</td>\n",
              "      <td>419.0</td>\n",
              "      <td>1K+ ratings</td>\n",
              "    </tr>\n",
              "    <tr>\n",
              "      <th>7230</th>\n",
              "      <td>534654</td>\n",
              "      <td>https://www.swiggy.com/restaurants/the-licious...</td>\n",
              "      <td>The Licious Kitchen</td>\n",
              "      <td>4.2</td>\n",
              "      <td>₹350 FOR TWO</td>\n",
              "      <td>Kebabs, Snacks, Tandoor, North Indian, Beverages</td>\n",
              "      <td>The Licious Kitchen</td>\n",
              "      <td>Koramangala</td>\n",
              "      <td>Wheat Laccha Paratha</td>\n",
              "      <td>25.0</td>\n",
              "      <td>1K+ ratings</td>\n",
              "    </tr>\n",
              "    <tr>\n",
              "      <th>7231</th>\n",
              "      <td>534654</td>\n",
              "      <td>https://www.swiggy.com/restaurants/the-licious...</td>\n",
              "      <td>The Licious Kitchen</td>\n",
              "      <td>4.2</td>\n",
              "      <td>₹350 FOR TWO</td>\n",
              "      <td>Kebabs, Snacks, Tandoor, North Indian, Beverages</td>\n",
              "      <td>The Licious Kitchen</td>\n",
              "      <td>Koramangala</td>\n",
              "      <td>Tandoori Chicken (4 Pcs)</td>\n",
              "      <td>279.0</td>\n",
              "      <td>1K+ ratings</td>\n",
              "    </tr>\n",
              "  </tbody>\n",
              "</table>\n",
              "<p>5584 rows × 11 columns</p>\n",
              "</div>\n",
              "      <button class=\"colab-df-convert\" onclick=\"convertToInteractive('df-6f88eabe-e27a-4591-bcf4-62a57c3e506c')\"\n",
              "              title=\"Convert this dataframe to an interactive table.\"\n",
              "              style=\"display:none;\">\n",
              "\n",
              "  <svg xmlns=\"http://www.w3.org/2000/svg\" height=\"24px\"viewBox=\"0 0 24 24\"\n",
              "       width=\"24px\">\n",
              "    <path d=\"M0 0h24v24H0V0z\" fill=\"none\"/>\n",
              "    <path d=\"M18.56 5.44l.94 2.06.94-2.06 2.06-.94-2.06-.94-.94-2.06-.94 2.06-2.06.94zm-11 1L8.5 8.5l.94-2.06 2.06-.94-2.06-.94L8.5 2.5l-.94 2.06-2.06.94zm10 10l.94 2.06.94-2.06 2.06-.94-2.06-.94-.94-2.06-.94 2.06-2.06.94z\"/><path d=\"M17.41 7.96l-1.37-1.37c-.4-.4-.92-.59-1.43-.59-.52 0-1.04.2-1.43.59L10.3 9.45l-7.72 7.72c-.78.78-.78 2.05 0 2.83L4 21.41c.39.39.9.59 1.41.59.51 0 1.02-.2 1.41-.59l7.78-7.78 2.81-2.81c.8-.78.8-2.07 0-2.86zM5.41 20L4 18.59l7.72-7.72 1.47 1.35L5.41 20z\"/>\n",
              "  </svg>\n",
              "      </button>\n",
              "\n",
              "\n",
              "\n",
              "    <div id=\"df-036a3013-de0d-450c-925a-2eb63eeb4187\">\n",
              "      <button class=\"colab-df-quickchart\" onclick=\"quickchart('df-036a3013-de0d-450c-925a-2eb63eeb4187')\"\n",
              "              title=\"Suggest charts.\"\n",
              "              style=\"display:none;\">\n",
              "\n",
              "<svg xmlns=\"http://www.w3.org/2000/svg\" height=\"24px\"viewBox=\"0 0 24 24\"\n",
              "     width=\"24px\">\n",
              "    <g>\n",
              "        <path d=\"M19 3H5c-1.1 0-2 .9-2 2v14c0 1.1.9 2 2 2h14c1.1 0 2-.9 2-2V5c0-1.1-.9-2-2-2zM9 17H7v-7h2v7zm4 0h-2V7h2v10zm4 0h-2v-4h2v4z\"/>\n",
              "    </g>\n",
              "</svg>\n",
              "      </button>\n",
              "    </div>\n",
              "\n",
              "<style>\n",
              "  .colab-df-quickchart {\n",
              "    background-color: #E8F0FE;\n",
              "    border: none;\n",
              "    border-radius: 50%;\n",
              "    cursor: pointer;\n",
              "    display: none;\n",
              "    fill: #1967D2;\n",
              "    height: 32px;\n",
              "    padding: 0 0 0 0;\n",
              "    width: 32px;\n",
              "  }\n",
              "\n",
              "  .colab-df-quickchart:hover {\n",
              "    background-color: #E2EBFA;\n",
              "    box-shadow: 0px 1px 2px rgba(60, 64, 67, 0.3), 0px 1px 3px 1px rgba(60, 64, 67, 0.15);\n",
              "    fill: #174EA6;\n",
              "  }\n",
              "\n",
              "  [theme=dark] .colab-df-quickchart {\n",
              "    background-color: #3B4455;\n",
              "    fill: #D2E3FC;\n",
              "  }\n",
              "\n",
              "  [theme=dark] .colab-df-quickchart:hover {\n",
              "    background-color: #434B5C;\n",
              "    box-shadow: 0px 1px 3px 1px rgba(0, 0, 0, 0.15);\n",
              "    filter: drop-shadow(0px 1px 2px rgba(0, 0, 0, 0.3));\n",
              "    fill: #FFFFFF;\n",
              "  }\n",
              "</style>\n",
              "\n",
              "    <script>\n",
              "      async function quickchart(key) {\n",
              "        const containerElement = document.querySelector('#' + key);\n",
              "        const charts = await google.colab.kernel.invokeFunction(\n",
              "            'suggestCharts', [key], {});\n",
              "      }\n",
              "    </script>\n",
              "\n",
              "      <script>\n",
              "\n",
              "function displayQuickchartButton(domScope) {\n",
              "  let quickchartButtonEl =\n",
              "    domScope.querySelector('#df-036a3013-de0d-450c-925a-2eb63eeb4187 button.colab-df-quickchart');\n",
              "  quickchartButtonEl.style.display =\n",
              "    google.colab.kernel.accessAllowed ? 'block' : 'none';\n",
              "}\n",
              "\n",
              "        displayQuickchartButton(document);\n",
              "      </script>\n",
              "      <style>\n",
              "    .colab-df-container {\n",
              "      display:flex;\n",
              "      flex-wrap:wrap;\n",
              "      gap: 12px;\n",
              "    }\n",
              "\n",
              "    .colab-df-convert {\n",
              "      background-color: #E8F0FE;\n",
              "      border: none;\n",
              "      border-radius: 50%;\n",
              "      cursor: pointer;\n",
              "      display: none;\n",
              "      fill: #1967D2;\n",
              "      height: 32px;\n",
              "      padding: 0 0 0 0;\n",
              "      width: 32px;\n",
              "    }\n",
              "\n",
              "    .colab-df-convert:hover {\n",
              "      background-color: #E2EBFA;\n",
              "      box-shadow: 0px 1px 2px rgba(60, 64, 67, 0.3), 0px 1px 3px 1px rgba(60, 64, 67, 0.15);\n",
              "      fill: #174EA6;\n",
              "    }\n",
              "\n",
              "    [theme=dark] .colab-df-convert {\n",
              "      background-color: #3B4455;\n",
              "      fill: #D2E3FC;\n",
              "    }\n",
              "\n",
              "    [theme=dark] .colab-df-convert:hover {\n",
              "      background-color: #434B5C;\n",
              "      box-shadow: 0px 1px 3px 1px rgba(0, 0, 0, 0.15);\n",
              "      filter: drop-shadow(0px 1px 2px rgba(0, 0, 0, 0.3));\n",
              "      fill: #FFFFFF;\n",
              "    }\n",
              "  </style>\n",
              "\n",
              "      <script>\n",
              "        const buttonEl =\n",
              "          document.querySelector('#df-6f88eabe-e27a-4591-bcf4-62a57c3e506c button.colab-df-convert');\n",
              "        buttonEl.style.display =\n",
              "          google.colab.kernel.accessAllowed ? 'block' : 'none';\n",
              "\n",
              "        async function convertToInteractive(key) {\n",
              "          const element = document.querySelector('#df-6f88eabe-e27a-4591-bcf4-62a57c3e506c');\n",
              "          const dataTable =\n",
              "            await google.colab.kernel.invokeFunction('convertToInteractive',\n",
              "                                                     [key], {});\n",
              "          if (!dataTable) return;\n",
              "\n",
              "          const docLinkHtml = 'Like what you see? Visit the ' +\n",
              "            '<a target=\"_blank\" href=https://colab.research.google.com/notebooks/data_table.ipynb>data table notebook</a>'\n",
              "            + ' to learn more about interactive tables.';\n",
              "          element.innerHTML = '';\n",
              "          dataTable['output_type'] = 'display_data';\n",
              "          await google.colab.output.renderOutput(dataTable, element);\n",
              "          const docLink = document.createElement('div');\n",
              "          docLink.innerHTML = docLinkHtml;\n",
              "          element.appendChild(docLink);\n",
              "        }\n",
              "      </script>\n",
              "    </div>\n",
              "  </div>\n"
            ]
          },
          "metadata": {},
          "execution_count": 8
        }
      ]
    },
    {
      "cell_type": "code",
      "source": [
        "df.groupby(df['Restaurant_Name']).agg({'Rating':'count','Review_count':'count'}).idxmax()"
      ],
      "metadata": {
        "colab": {
          "base_uri": "https://localhost:8080/"
        },
        "id": "XB2IVEbRvOGZ",
        "outputId": "28d3ec84-9ece-4c63-e9ee-fb46041efc95"
      },
      "execution_count": 16,
      "outputs": [
        {
          "output_type": "execute_result",
          "data": {
            "text/plain": [
              "Rating          Empire Juices and Desserts\n",
              "Review_count    Empire Juices and Desserts\n",
              "dtype: object"
            ]
          },
          "metadata": {},
          "execution_count": 16
        }
      ]
    },
    {
      "cell_type": "code",
      "source": [
        "va_df=pd.DataFrame(df.groupby(['Cousines','location']).agg({'Review_count':'count'}).reset_index())"
      ],
      "metadata": {
        "id": "01yKb8CgMMN_"
      },
      "execution_count": 13,
      "outputs": []
    },
    {
      "cell_type": "code",
      "source": [
        "loc=list(va_df['location'].unique())"
      ],
      "metadata": {
        "id": "PcgbDsLsvozF"
      },
      "execution_count": 14,
      "outputs": []
    },
    {
      "cell_type": "code",
      "source": [
        "loc"
      ],
      "metadata": {
        "colab": {
          "base_uri": "https://localhost:8080/"
        },
        "id": "E55mnEtavv_q",
        "outputId": "1b722585-2dc9-4c44-b330-30e982e36f1a"
      },
      "execution_count": 15,
      "outputs": [
        {
          "output_type": "execute_result",
          "data": {
            "text/plain": [
              "['St. Marks Road',\n",
              " 'Vasanth Nagar',\n",
              " 'St Marks Road',\n",
              " 'Church Street',\n",
              " 'Rajajinagar',\n",
              " 'Frazer Town',\n",
              " 'Halasuru',\n",
              " 'Indiranagar',\n",
              " 'Seshadripuram',\n",
              " 'Jayanagar',\n",
              " 'Basavanagudi',\n",
              " 'Malleshwaram',\n",
              " 'Shanti Nagar',\n",
              " 'Ashok Nagar',\n",
              " 'Koramangala',\n",
              " 'Santhi Nagar',\n",
              " 'R.T Nagar',\n",
              " 'MG Road',\n",
              " 'Brigade Road',\n",
              " 'Bannerghatta Main Road',\n",
              " 'Central Bangalore',\n",
              " 'PRESTIGE FORUM REX',\n",
              " 'Lavelle Road',\n",
              " 'Cunningham Road',\n",
              " 'Dispensary Rd',\n",
              " 'Domlur layout',\n",
              " 'Domlur',\n",
              " 'Majestic',\n",
              " 'Race Course Road',\n",
              " 'Mysore Road',\n",
              " 'Magrath Road',\n",
              " 'Sheshadripuram',\n",
              " 'Ulsoor',\n",
              " 'Shivajinagar',\n",
              " 'Shantinagar',\n",
              " 'Richmond Road',\n",
              " 'Shivaji Nagar',\n",
              " 'Richmond Town',\n",
              " 'Ejipura',\n",
              " 'JP Nagar',\n",
              " 'BTM Layout',\n",
              " 'Adugodi',\n",
              " 'Tavarekere',\n",
              " 'Vijayanagar',\n",
              " 'Banashankari',\n",
              " 'Wilson Garden',\n",
              " 'Btm Layout',\n",
              " 'MAGARATH ROAD',\n",
              " 'Btm',\n",
              " 'Residency Road',\n",
              " 'Santhinagar',\n",
              " 'Malleswaram',\n",
              " 'Lavelle road',\n",
              " 'Banaswadi',\n",
              " 'R.T. Nagar',\n",
              " 'K G CIRCLE, MAJESTIC',\n",
              " 'Nagawara',\n",
              " 'Hebbala',\n",
              " 'Old Airport Road',\n",
              " 'Forum Rex Walk',\n",
              " 'Shanthi Nagar',\n",
              " 'Commercial Street',\n",
              " 'KORAMANGALA',\n",
              " 'Jaya Nagar',\n",
              " 'Audgodi',\n",
              " 'ST MARKS ROAD',\n",
              " 'Basavangudi',\n",
              " 'BTM layout',\n",
              " 'Basaveshwara Nagar',\n",
              " 'Austin Town',\n",
              " 'S G Palya']"
            ]
          },
          "metadata": {},
          "execution_count": 15
        }
      ]
    },
    {
      "cell_type": "code",
      "source": [
        "l=list(va_df['Cousines'].unique())"
      ],
      "metadata": {
        "id": "PYyafT32MPv2"
      },
      "execution_count": 16,
      "outputs": []
    },
    {
      "cell_type": "code",
      "source": [
        "l"
      ],
      "metadata": {
        "colab": {
          "base_uri": "https://localhost:8080/"
        },
        "id": "a2G9V86hvdvg",
        "outputId": "29ad5c86-37c6-46cf-e2a9-16ef629520aa"
      },
      "execution_count": 17,
      "outputs": [
        {
          "output_type": "execute_result",
          "data": {
            "text/plain": [
              "['American, Continental, Beverages',\n",
              " 'American, Continental, Steakhouse',\n",
              " 'American, Desserts',\n",
              " 'American, Desserts, Continental, Italian',\n",
              " 'American, Fast Food, Beverages',\n",
              " 'American, Grill, Fast Food, Snacks, Pizzas, Mexican, Beverages',\n",
              " 'American, Snacks, Turkish, Portuguese, Continental',\n",
              " 'American, Steakhouse, Italian, Mexican, Continental, Mediterranean, Desserts, Gr...',\n",
              " 'Andhra, Biryani, Chinese, North Indian',\n",
              " 'Andhra, Biryani, Hyderabadi, South Indian, Indian, Combo, Beverages',\n",
              " 'Andhra, Biryani, South Indian',\n",
              " 'Andhra, Biryani, Tandoor',\n",
              " 'Andhra, Chettinad, Chinese, Desserts, North Indian, Seafood',\n",
              " 'Andhra, Chinese',\n",
              " 'Andhra, Chinese, Mughlai, North Indian, Seafood',\n",
              " 'Andhra, South Indian, Biryani',\n",
              " 'Andhra, South Indian, Biryani, Beverages, Desserts',\n",
              " 'Arabian',\n",
              " 'Arabian, Beverages, Fast Food, Snacks',\n",
              " 'Arabian, Biryani, Desserts, Mughlai, North Indian',\n",
              " 'Arabian, Biryani, Mediterranean, Lebanese, Snacks, Beverages',\n",
              " 'Arabian, Chinese, Beverages, Mughlai',\n",
              " 'Arabian, Chinese, Desserts, Mughlai, North Indian, Seafood, South Indian',\n",
              " 'Arabian, Chinese, Desserts, North Indian, Seafood, South Indian',\n",
              " 'Arabian, Fast Food',\n",
              " 'Arabian, Indian, Chinese, Tandoor, Biryani, Seafood, Kerala',\n",
              " 'Arabian, North Indian, Chinese, Beverages, Ice Cream',\n",
              " 'Arabian, North Indian, Indian, Desserts',\n",
              " 'Arabian, Snacks, Fast Food',\n",
              " 'Arabian, Tandoor, Biryani',\n",
              " 'Arabian, Tandoor, Chinese',\n",
              " 'Asian, Beverages, Biryani, Chinese, Continental, Desserts, South Indian',\n",
              " 'Asian, Chinese',\n",
              " 'Asian, Chinese, Sushi',\n",
              " 'Asian, Chinese, Vietnamese, Malaysian, Sushi, Singaporean, Desserts',\n",
              " 'Asian, Desserts, Italian, Thai, Ice Cream, Salads, Sushi, Beverages, Bakery, Caf...',\n",
              " 'Asian, Pan-Asian, Vietnamese, Combo, Beverages',\n",
              " 'Assamese, Indian, Beverages, Bengali, Thalis, Nepalese, North Eastern, Naga',\n",
              " 'Bakery',\n",
              " 'Bakery, Beverages, Chaat, Desserts, Home Food, Italian, Maharashtrian, Snacks, S...',\n",
              " 'Bakery, Beverages, Maharashtrian, Snacks, Street Food, South Indian, Punjabi, Ch...',\n",
              " 'Bakery, Beverages, Snacks',\n",
              " 'Bakery, Desserts',\n",
              " 'Bakery, Desserts, Beverages',\n",
              " 'Bakery, Desserts, Beverages, Snacks',\n",
              " 'Bakery, Desserts, Cafe',\n",
              " 'Bakery, Desserts, Continental, Cafe, Snacks',\n",
              " 'Bakery, Desserts, Ice Cream',\n",
              " 'Bakery, Desserts, Ice Cream, Beverages',\n",
              " 'Bakery, Desserts, Sweets',\n",
              " 'Bakery, Desserts, Sweets, Ice Cream',\n",
              " 'Bakery, Pizzas, Chinese, Italian, American, Sweets, Desserts, Beverages',\n",
              " 'Bengali',\n",
              " 'Bengali, Biryani, Thalis, Desserts',\n",
              " 'Bengali, Chinese',\n",
              " 'Bengali, Mughlai, Sweets',\n",
              " 'Beverages',\n",
              " 'Beverages, Bakery, Continental',\n",
              " 'Beverages, Cafe, Snacks, Desserts, Bakery, Ice Cream',\n",
              " 'Beverages, Desserts',\n",
              " 'Beverages, Desserts, Ice Cream, Juices, Korean, Healthy Food',\n",
              " 'Beverages, Desserts, Ice Cream, Waffle, Bakery, Healthy Food',\n",
              " 'Beverages, Fast Food, Chinese, Italian-American',\n",
              " 'Beverages, Ice Cream, Desserts',\n",
              " 'Beverages, Ice Cream, Desserts, Healthy Food',\n",
              " 'Beverages, Ice Cream, Snacks, Desserts',\n",
              " 'Beverages, Indian',\n",
              " 'Beverages, Juices, Ice Cream, Pizzas, Desserts',\n",
              " 'Beverages, North Indian, South Indian',\n",
              " 'Beverages, Snacks, Desserts',\n",
              " 'Biryani',\n",
              " 'Biryani, Andhra',\n",
              " 'Biryani, Andhra, South Indian',\n",
              " 'Biryani, Andhra, South Indian, North Indian, Chinese, Seafood',\n",
              " 'Biryani, Arabian, Snacks',\n",
              " 'Biryani, Barbecue, South Indian, Chinese, North Indian',\n",
              " 'Biryani, Beverages, Indian',\n",
              " 'Biryani, Chettinad, Andhra, Beverages, Seafood',\n",
              " 'Biryani, Chinese, Hyderabadi, Andhra, North Indian',\n",
              " 'Biryani, Chinese, North Indian',\n",
              " 'Biryani, Desserts',\n",
              " 'Biryani, Haleem, Desserts',\n",
              " 'Biryani, Hyderabadi',\n",
              " 'Biryani, Hyderabadi, North Indian, Kebabs, Mughlai, Desserts',\n",
              " 'Biryani, Indian',\n",
              " 'Biryani, Indian, Arabian',\n",
              " 'Biryani, Indian, Chinese, Tandoor, Seafood',\n",
              " 'Biryani, Indian, North Indian',\n",
              " 'Biryani, Kebabs',\n",
              " 'Biryani, Kebabs, Chinese, Desserts, Beverages, Andhra, Grill',\n",
              " 'Biryani, Kebabs, Grill',\n",
              " 'Biryani, Kebabs, Lucknowi, Hyderabadi',\n",
              " 'Biryani, Kebabs, North Indian, Hyderabadi',\n",
              " 'Biryani, Kebabs, South Indian',\n",
              " 'Biryani, Kebabs, Tandoor, Indian, Desserts',\n",
              " 'Biryani, Kerala, Meat, North Indian, South Indian',\n",
              " 'Biryani, Mughlai, Kebabs, North Indian, Lucknowi, Fast Food, Desserts, Beverages',\n",
              " 'Biryani, Mughlai, Lucknowi, Hyderabadi, Desserts, Beverages',\n",
              " 'Biryani, Mughlai, Lucknowi, Hyderabadi, Kebabs, Desserts, Beverages',\n",
              " 'Biryani, Mughlai, Lucknowi, Hyderabadi, Kebabs, North Indian, Desserts, Beverage...',\n",
              " 'Biryani, Mughlai, North Indian, Kebabs, Chinese, Seafood, Beverages',\n",
              " 'Biryani, Mughlai, Seafood, North Indian',\n",
              " 'Biryani, North Indian',\n",
              " 'Biryani, North Indian, Awadhi',\n",
              " 'Biryani, North Indian, Chinese, Seafood',\n",
              " 'Biryani, North Indian, Desserts, Beverages',\n",
              " 'Biryani, North Indian, Pastas, Punjabi, Desserts, Beverages',\n",
              " 'Biryani, North Indian, Punjabi, Healthy Food, Desserts, Beverages',\n",
              " 'Biryani, Snacks',\n",
              " 'Biryani, South Indian',\n",
              " 'Biryani, South Indian, Chinese',\n",
              " 'Biryani, South Indian, Desserts, Beverages',\n",
              " 'Biryani, South Indian, Kebabs',\n",
              " 'Biryani, South Indian, Kebabs, Beverages, Desserts',\n",
              " 'Biryani, South Indian, Maharashtrian',\n",
              " 'Biryani, Tandoor, Kebabs, Barbecue',\n",
              " 'Burgers, American',\n",
              " 'Burgers, American, Fast Food, Snacks',\n",
              " 'Burgers, Biryani, American, Snacks, Fast Food',\n",
              " 'Burgers, Fast Food',\n",
              " 'Burgers, Fast Food, Beverages',\n",
              " 'Burgers, Pastas, Continental, Grill',\n",
              " 'Burgers, Snacks, American, Beverages, Desserts, Fast Food, Arabian, Indian, Sala...',\n",
              " 'Burmese, Asian, Salads, Ice Cream, Desserts',\n",
              " 'Chaat',\n",
              " 'Chettinad, South Indian, Biryani',\n",
              " 'Chettinad, Thalis, Biryani, Chinese, Tandoor, South Indian, North Indian',\n",
              " 'Chinese',\n",
              " 'Chinese, Arabian, North Indian, Desserts, Biryani, South Indian',\n",
              " 'Chinese, Arabian, Tandoor',\n",
              " 'Chinese, Asian',\n",
              " 'Chinese, Asian, Snacks, Tibetan, Street Food, Japanese, Pan-Asian, Beverages',\n",
              " 'Chinese, Asian, Tibetan, Desserts',\n",
              " 'Chinese, Beverages, Juices',\n",
              " 'Chinese, Biryani, Fast Food',\n",
              " 'Chinese, Indian',\n",
              " 'Chinese, North Indian',\n",
              " 'Chinese, North Indian, Indian',\n",
              " 'Chinese, North Indian, Indian, Beverages',\n",
              " 'Chinese, North Indian, Punjabi',\n",
              " 'Chinese, North Indian, Seafood, South Indian',\n",
              " 'Chinese, North Indian, Snacks',\n",
              " 'Chinese, North Indian, South Indian',\n",
              " 'Chinese, North Indian, Tandoor',\n",
              " 'Chinese, Pan-Asian',\n",
              " 'Chinese, Pan-Asian, Thai, Malaysian, Asian, Beverages',\n",
              " 'Chinese, Seafood',\n",
              " 'Chinese, Seafood, Thai, Pan-Asian',\n",
              " 'Chinese, Snacks',\n",
              " 'Chinese, South Indian, North Indian',\n",
              " 'Chinese, South Indian, North Indian, Andhra, Seafood, Punjabi, Hyderabadi',\n",
              " 'Chinese, South Indian, North Indian, Desserts',\n",
              " 'Chinese, South Indian, North Indian, Desserts, Beverages',\n",
              " 'Chinese, South Indian, North Indian, Desserts, Fast Food, Beverages, Mughlai',\n",
              " 'Chinese, Tandoor, Salads, North Indian',\n",
              " 'Chinese, Thai',\n",
              " 'Chinese, Thai, Asian',\n",
              " 'Chinese, Thai, Biryani',\n",
              " 'Chinese, Thai, Pan-Asian',\n",
              " 'Chinese, Thai, Seafood, Beverages, Desserts',\n",
              " 'Chinese, Thalis',\n",
              " 'Chinese, Tibetan',\n",
              " 'Coastal, Seafood, Indian, Tandoor, Biryani, Desserts, Konkan, Mangalorean',\n",
              " 'Continental, American',\n",
              " 'Continental, Chinese, North Indian, Asian, European',\n",
              " 'Continental, Chinese, Oriental, Asian, Healthy Food, Fast Food, Indian, Desserts',\n",
              " 'Continental, Desserts, Juices, Ice Cream',\n",
              " 'Continental, Pastas, Salads, Snacks, Desserts, Fast Food, French',\n",
              " 'Continental, Steakhouse, American, Italian, Beverages, Desserts',\n",
              " 'Desserts',\n",
              " 'Desserts, Bakery',\n",
              " 'Desserts, Bakery, Beverages',\n",
              " 'Desserts, Bakery, Beverages, Continental, Italian',\n",
              " 'Desserts, Beverages',\n",
              " 'Desserts, Beverages, Ice Cream',\n",
              " 'Desserts, Continental, American, French, Beverages',\n",
              " 'Desserts, Ice Cream',\n",
              " 'Desserts, Ice Cream, Bakery',\n",
              " 'Desserts, Ice Cream, Healthy Food',\n",
              " 'Desserts, Ice Cream, Ice Cream Cakes',\n",
              " 'Desserts, Snacks, Chaat, Ice Cream',\n",
              " 'Desserts, Snacks, Ice Cream, Bakery',\n",
              " 'Desserts, Sweets, Bakery',\n",
              " 'European, Italian, American, Pastas, Salads, Juices, Desserts',\n",
              " 'Fast Food',\n",
              " 'Fast Food, American, Beverages',\n",
              " 'Fast Food, American, Snacks',\n",
              " 'Fast Food, Beverages, Indian',\n",
              " 'Fast Food, Kebabs',\n",
              " 'Fast Food, Punjabi, Desserts',\n",
              " 'Fast Food, Salads, Snacks, Desserts, Beverages',\n",
              " 'Fast Food, Snacks',\n",
              " 'Fast Food, Snacks, American, Burgers, Desserts, Beverages',\n",
              " 'Gujarati, Rajasthani, North Indian',\n",
              " 'Healthy Food, American, European, Bakery, Juices, Sweets, Snacks, Cafe, Fast Foo...',\n",
              " 'Healthy Food, Indian, Bakery, Snacks, North Indian, Keto',\n",
              " 'Healthy Food, Indian, Snacks, Fast Food',\n",
              " 'Healthy Food, Pizzas, North Indian, Thalis, Biryani, Chinese',\n",
              " 'Healthy Food, Salads, Beverages',\n",
              " 'Healthy Food, Salads, Keto, Snacks',\n",
              " 'Home Food, Indian, North Indian, Healthy Food, Snacks, Desserts, Rajasthani, Sou...',\n",
              " 'Home Food, North Indian, Punjabi, Snacks, Desserts',\n",
              " 'Home Food, North Indian, South Indian, Beverages, Desserts, Thalis',\n",
              " 'Home Food, North Indian, Thalis',\n",
              " 'Hyderabadi, Andhra, Continental',\n",
              " 'Ice Cream, Desserts',\n",
              " 'Ice Cream, Desserts, Beverages',\n",
              " 'Ice Cream, Juices',\n",
              " 'Indian',\n",
              " 'Indian, Beverages, Chinese',\n",
              " 'Indian, Biryani',\n",
              " 'Indian, Biryani, Chinese, Snacks',\n",
              " 'Indian, Chinese',\n",
              " 'Indian, Chinese, Arabian',\n",
              " 'Indian, Chinese, Beverages',\n",
              " 'Indian, Chinese, Biryani, Tandoor',\n",
              " 'Indian, Chinese, Juices',\n",
              " 'Indian, Chinese, Seafood, Mangalorean',\n",
              " 'Indian, Chinese, Tandoor',\n",
              " 'Indian, Chinese, Tandoor, South Indian',\n",
              " 'Indian, Chinese, Thalis',\n",
              " 'Indian, Fast Food, Thalis',\n",
              " 'Indian, Healthy Food, Home Food, South Indian, North Indian',\n",
              " 'Indian, Jain, Beverages, Chinese',\n",
              " 'Indian, Mughlai',\n",
              " 'Indian, North Indian, Punjabi, Chinese, Biryani',\n",
              " 'Indian, Seafood',\n",
              " 'Indian, Seafood, Chinese, Snacks',\n",
              " 'Indian, South Indian, Chinese',\n",
              " 'Italian',\n",
              " 'Italian, Continental, Fast Food, Salads, Healthy Food, Pizzas, Desserts',\n",
              " 'Italian, Desserts, Pizzas',\n",
              " 'Italian, Pizzas',\n",
              " 'Italian, Pizzas, Desserts, Beverages',\n",
              " 'Italian, Pizzas, Pastas',\n",
              " 'Italian, Pizzas, Pastas, Continental, Desserts, Bakery',\n",
              " 'Italian, Pizzas, Pastas, Desserts, Beverages',\n",
              " 'Italian, Pizzas, Pastas, Salads, Desserts',\n",
              " 'Italian, Pizzas, Salads, Pastas, Desserts',\n",
              " 'Jain, North Indian, Continental, Italian, Beverages, Thai',\n",
              " 'Japanese, Asian',\n",
              " 'Japanese, Pan-Asian, Korean, Thai, Sushi, Beverages, Asian, Chinese',\n",
              " 'Juices',\n",
              " 'Juices, Beverages',\n",
              " 'Kebabs, Biryani',\n",
              " 'Kebabs, Biryani, Awadhi',\n",
              " 'Kebabs, Fast Food, Snacks, North Indian, American, Healthy Food, Desserts, Bever...',\n",
              " 'Kebabs, Snacks, Tandoor, North Indian, Beverages',\n",
              " 'Kerala, Biryani, South Indian, Chinese, Seafood, Beverages',\n",
              " 'Kerala, Chinese',\n",
              " 'Kerala, Seafood, South Indian, Buffalo meat, Chettinad',\n",
              " 'Kerala, Snacks, Biryani, Indian, Beverages',\n",
              " 'Kerala, South Indian, Desserts, Barbecue, Mughlai, Seafood',\n",
              " 'Kerala, South Indian, Seafood, Biryani, Indian',\n",
              " 'Kerala, South Indian, Seafood, Chinese',\n",
              " 'Korean, Snacks',\n",
              " 'Lebanese, Greek, Mediterranean',\n",
              " 'Mangalorean, Biryani, Seafood, Chinese, North Indian, Desserts, South Indian',\n",
              " 'Mangalorean, Chinese, North Indian, Mughlai, Punjabi, Awadhi',\n",
              " 'Mangalorean, Seafood',\n",
              " 'Mangalorean, Seafood, Chinese, Coastal',\n",
              " 'Mangalorean, South Indian, Biryani, North Indian',\n",
              " 'Mexican',\n",
              " 'Mexican, American, Salads, Continental, Keto, Healthy Food',\n",
              " 'Mexican, Continental',\n",
              " 'Middle Eastern',\n",
              " 'Mughlai, Biryani, Arabian, Kebabs, Beverages, Desserts',\n",
              " 'Mughlai, Biryani, North Indian, Kebabs, Desserts',\n",
              " 'Mughlai, Indian, Biryani, Combo, Andhra, Beverages, Kebabs, Sweets, Hyderabadi, ...',\n",
              " 'Mughlai, North Indian',\n",
              " 'Mughlai, North Indian, Biryani',\n",
              " 'Mughlai, North Indian, Chinese',\n",
              " 'Mughlai, North Indian, Chinese, Arabian, Biryani, Tandoor',\n",
              " 'Naga, Chinese',\n",
              " 'North Indian',\n",
              " 'North Indian, Barbecue, Biryani, Kebabs, Mughlai, Desserts',\n",
              " 'North Indian, Bengali, South Indian, Fast Food, Chinese, Biryani, Desserts, Kera...',\n",
              " 'North Indian, Biryani, Afghani',\n",
              " 'North Indian, Biryani, Indian, Punjabi, Chaat, Kebabs, Tandoor, Mughlai, Dessert...',\n",
              " 'North Indian, Biryani, Seafood, Snacks',\n",
              " 'North Indian, Biryani, Thalis, Home Food',\n",
              " 'North Indian, Chaat, Chinese, Thalis',\n",
              " 'North Indian, Chinese',\n",
              " 'North Indian, Chinese, Biryani, Fast Food',\n",
              " 'North Indian, Chinese, Biryani, Kebabs',\n",
              " 'North Indian, Chinese, Chaat, Tandoor, Jain',\n",
              " 'North Indian, Chinese, Coastal, Snacks',\n",
              " 'North Indian, Chinese, Desserts, Biryani',\n",
              " 'North Indian, Chinese, Fast Food',\n",
              " 'North Indian, Chinese, Indian, Mughlai',\n",
              " 'North Indian, Chinese, Snacks, Indian',\n",
              " 'North Indian, Chinese, Tandoor',\n",
              " 'North Indian, Chinese, Tandoor, Grill, Biryani, Kebabs, Ice Cream, Juices, South...',\n",
              " 'North Indian, Chinese, Tandoor, Sweets, Beverages',\n",
              " 'North Indian, Chinese, Tibetan, Desserts',\n",
              " 'North Indian, Fast Food, Beverages',\n",
              " 'North Indian, Home Food, Healthy Food, Indian, Punjabi, South Indian, Rajasthani...',\n",
              " 'North Indian, Indian',\n",
              " 'North Indian, Indian, Biryani, Punjabi, Kebabs, Grill, Mughlai, Desserts',\n",
              " 'North Indian, Indian, Chinese',\n",
              " 'North Indian, Indian, Chinese, Continental, Beverages, Desserts',\n",
              " 'North Indian, Indian, Desserts, Chinese, Thalis',\n",
              " 'North Indian, Indian, South Indian, Snacks',\n",
              " 'North Indian, Jain',\n",
              " 'North Indian, Jain, Indian, Beverages, Desserts',\n",
              " 'North Indian, Kebabs, Biryani',\n",
              " 'North Indian, Kebabs, Biryani, Mughlai',\n",
              " 'North Indian, Kebabs, Desserts, Salads',\n",
              " 'North Indian, Mughlai',\n",
              " 'North Indian, Mughlai, Biryani, Indian',\n",
              " 'North Indian, Punjabi',\n",
              " 'North Indian, Punjabi, Home Food',\n",
              " 'North Indian, Punjabi, Jain',\n",
              " 'North Indian, Punjabi, Thalis, Tandoor, Mughlai, Home Food, Barbecue, Beverages,...',\n",
              " 'North Indian, Rajasthani, Snacks, Chaat',\n",
              " 'North Indian, Snacks',\n",
              " 'North Indian, South Indian, Biryani, Chinese, Indian, Tandoor, Beverages',\n",
              " 'North Indian, South Indian, Chaat, Beverages',\n",
              " 'North Indian, South Indian, Chinese',\n",
              " 'North Indian, South Indian, Chinese, Juices, Tandoor',\n",
              " 'North Indian, Street Food',\n",
              " 'North Indian, Sweets, Desserts, Chaat',\n",
              " 'Pan-Asian, Continental, North Indian, Desserts, American, Asian, Beverages, Biry...',\n",
              " 'Pan-Asian, Japanese, Singaporean, Malaysian, Thai',\n",
              " 'Persian, Arabian, Indian, Middle Eastern, Biryani',\n",
              " 'Pizzas',\n",
              " 'Pizzas, Continental, Pastas, Beverages',\n",
              " 'Pizzas, Desserts, Beverages',\n",
              " 'Pizzas, Desserts, Beverages, Snacks',\n",
              " 'Pizzas, Fast Food',\n",
              " 'Pizzas, Italian',\n",
              " 'Pizzas, Italian, American, Continental, Salads, Desserts',\n",
              " 'Pizzas, Italian, Desserts, Beverages, Snacks',\n",
              " 'Pizzas, Italian, Fast Food, Desserts',\n",
              " 'Pizzas, Italian, Fast Food, Pastas',\n",
              " 'Pizzas, Italian, Pastas, Desserts',\n",
              " 'Pizzas, Italian, Pastas, Desserts, Beverages',\n",
              " 'Pizzas, Pastas, Continental',\n",
              " 'Pizzas, Pastas, Italian, Desserts, Beverages',\n",
              " 'Pizzas, Pastas, Italian, Mexican, Healthy Food, Desserts, Beverages',\n",
              " 'Pizzas, Snacks, Pastas',\n",
              " 'Portuguese, Burgers, Fast Food',\n",
              " 'Punjabi',\n",
              " 'Punjabi, North Indian, Thalis',\n",
              " 'Punjabi, Tandoor, Chinese',\n",
              " 'Rajasthani, Indian',\n",
              " 'Rajasthani, North Indian, Snacks, Chaat',\n",
              " 'Salads, Healthy Food, Beverages',\n",
              " 'Salads, Keto, Juices, Healthy Food',\n",
              " 'Seafood',\n",
              " 'Seafood, Andhra, Biryani, South Indian, Desserts, Beverages',\n",
              " 'Seafood, Chinese, Biryani',\n",
              " 'Seafood, Kerala, Biryani',\n",
              " 'Seafood, Tandoor, Chinese, North Indian, South Indian',\n",
              " 'Snacks',\n",
              " 'Snacks, Beverages',\n",
              " 'Snacks, Beverages, Chinese',\n",
              " 'Snacks, Chaat, Street Food, North Indian, Fast Food',\n",
              " 'Snacks, Chinese, Biryani',\n",
              " 'Snacks, Chinese, Juices, Beverages',\n",
              " 'Snacks, Desserts',\n",
              " 'Snacks, Fast Food, North Indian',\n",
              " 'Snacks, Indian',\n",
              " 'South Indian',\n",
              " 'South Indian, Biryani, Chinese',\n",
              " 'South Indian, Biryani, Desserts, Bakery',\n",
              " 'South Indian, Chinese, Biryani',\n",
              " 'South Indian, Chinese, Chaat, North Indian, Snacks',\n",
              " 'South Indian, Chinese, Desserts',\n",
              " 'South Indian, Chinese, Desserts, North Indian',\n",
              " 'South Indian, Chinese, North Indian',\n",
              " 'South Indian, Chinese, North Indian, Fast Food',\n",
              " 'South Indian, Chinese, Snacks',\n",
              " 'South Indian, North Indian',\n",
              " 'South Indian, North Indian, Beverages, Jain',\n",
              " 'South Indian, North Indian, Chinese, Beverages',\n",
              " 'South Indian, North Indian, Chinese, Desserts',\n",
              " 'South Indian, North Indian, Chinese, Indian, Desserts, Snacks',\n",
              " 'South Indian, North Indian, Chinese, Indian, Ice Cream, Chaat, Beverages, Desser...',\n",
              " 'South Indian, North Indian, Chinese, Thalis, Juices, Desserts',\n",
              " 'South Indian, North Indian, Indian, Chinese, Beverages, Desserts',\n",
              " 'South Indian, North Indian, Sweets, Chinese',\n",
              " 'South Indian, Snacks',\n",
              " 'South Indian, Snacks, Beverages',\n",
              " 'South Indian, Snacks, Indian, Beverages',\n",
              " 'South Indian, Thalis, Snacks, Biryani, Indian, Chinese, Desserts, Beverages',\n",
              " 'Street Food, Snacks, Fast Food, Pizzas, Chinese',\n",
              " 'Sweets',\n",
              " 'Sweets, Snacks, Bakery, Desserts',\n",
              " 'Tandoor, Mughlai, North Indian, Kebabs',\n",
              " 'Thalis, Sweets',\n",
              " 'Tibetan, Chinese, Asian, Snacks, Continental, Desserts, Beverages',\n",
              " 'Tibetan, Healthy Food, Asian, Chinese, Snacks, Continental, Desserts, Beverages',\n",
              " 'Tibetan, Nepalese, Asian, Chinese',\n",
              " 'Turkish, Middle Eastern, Lebanese',\n",
              " 'Waffle, Desserts, Ice Cream, Beverages']"
            ]
          },
          "metadata": {},
          "execution_count": 17
        }
      ]
    },
    {
      "cell_type": "code",
      "source": [
        "df.to_csv('va_df.csv',index=False)"
      ],
      "metadata": {
        "id": "Vj1qhddIMdsq"
      },
      "execution_count": null,
      "outputs": []
    },
    {
      "cell_type": "code",
      "source": [
        "av_df=pd.DataFrame(df.groupby(['Cousines','location']).agg({'Price':'mean'}).reset_index())"
      ],
      "metadata": {
        "id": "B8KTAy4p86Xd"
      },
      "execution_count": null,
      "outputs": []
    },
    {
      "cell_type": "code",
      "source": [
        "from sklearn.preprocessing import LabelEncoder\n",
        "lb=LabelEncoder()\n",
        "av_df['Cousines']=lb.fit_transform(av_df['Cousines'])\n",
        "av_df['location']=lb.fit_transform(av_df['location'])"
      ],
      "metadata": {
        "id": "y3rA_pC3vgH-"
      },
      "execution_count": null,
      "outputs": []
    },
    {
      "cell_type": "code",
      "source": [
        "df['location'].unique()"
      ],
      "metadata": {
        "colab": {
          "base_uri": "https://localhost:8080/"
        },
        "id": "EtZrnl5Hmx6s",
        "outputId": "2b223040-0622-48b8-bf92-5052f6ee2d9f"
      },
      "execution_count": null,
      "outputs": [
        {
          "output_type": "execute_result",
          "data": {
            "text/plain": [
              "array(['Central Bangalore', 'Ashok Nagar', 'MG Road', 'Tavarekere',\n",
              "       'Frazer Town', 'Brigade Road', 'Basavanagudi', 'Shivajinagar',\n",
              "       'St Marks Road', 'Majestic', 'Shivaji Nagar', 'Malleshwaram',\n",
              "       'Shanti Nagar', 'Jayanagar', 'Magrath Road', 'Indiranagar',\n",
              "       'Vasanth Nagar', 'Richmond Road', 'Santhinagar', 'Domlur layout',\n",
              "       'Rajajinagar', 'Nagawara', 'Seshadripuram', 'Ejipura', 'Hebbala',\n",
              "       'R.T Nagar', 'K G CIRCLE, MAJESTIC', 'Koramangala',\n",
              "       'Bannerghatta Main Road', 'Btm Layout', 'Ulsoor', 'Austin Town',\n",
              "       'Residency Road', 'Vijayanagar', 'Malleswaram', 'Shanthi Nagar',\n",
              "       'Adugodi', 'Race Course Road', 'Santhi Nagar', 'Wilson Garden',\n",
              "       'Halasuru', 'Domlur', 'ST MARKS ROAD', 'Basavangudi', 'BTM Layout',\n",
              "       'S G Palya', 'Cunningham Road', 'Jaya Nagar', 'Dispensary Rd',\n",
              "       'BTM layout', 'Shantinagar', 'Commercial Street', 'Sheshadripuram',\n",
              "       'Church Street', 'Lavelle Road', 'JP Nagar', 'PRESTIGE FORUM REX',\n",
              "       'St. Marks Road', 'MAGARATH ROAD', 'KORAMANGALA', 'R.T. Nagar',\n",
              "       'Btm', 'Audgodi', 'Banashankari', 'Old Airport Road',\n",
              "       'Richmond Town', 'Basaveshwara Nagar', 'Mysore Road',\n",
              "       'Lavelle road', 'Banaswadi', 'Forum Rex Walk'], dtype=object)"
            ]
          },
          "metadata": {},
          "execution_count": 471
        }
      ]
    },
    {
      "cell_type": "code",
      "source": [
        "av_df['location'].unique()"
      ],
      "metadata": {
        "colab": {
          "base_uri": "https://localhost:8080/"
        },
        "id": "VKL7HHRCmsJR",
        "outputId": "ffa78ded-1ac2-462a-e17a-bbd4caf0dfe0"
      },
      "execution_count": null,
      "outputs": [
        {
          "output_type": "execute_result",
          "data": {
            "text/plain": [
              "array([65, 68, 64, 16, 49, 24, 25, 27, 57, 30,  9, 40, 59,  1, 33, 55, 46,\n",
              "       37, 12,  8, 15, 45, 34, 18, 19, 21, 20, 39, 48, 42, 38, 61, 67, 63,\n",
              "       60, 51, 62, 52, 22, 28,  4,  0, 66, 69,  6, 70, 14, 36, 13, 50, 56,\n",
              "       41, 35,  7, 47, 31, 43, 26, 44, 23, 58, 17, 32, 29,  2, 54, 10,  5,\n",
              "       11,  3, 53])"
            ]
          },
          "metadata": {},
          "execution_count": 470
        }
      ]
    },
    {
      "cell_type": "code",
      "source": [
        "av_df['location'].value_counts()"
      ],
      "metadata": {
        "colab": {
          "base_uri": "https://localhost:8080/"
        },
        "id": "4vKurN6gmj7z",
        "outputId": "e2c8ce4c-cfa3-495c-a072-02cde7fd35ce"
      },
      "execution_count": null,
      "outputs": [
        {
          "output_type": "execute_result",
          "data": {
            "text/plain": [
              "33    69\n",
              "27    58\n",
              "9     29\n",
              "30    28\n",
              "1     27\n",
              "      ..\n",
              "8      1\n",
              "45     1\n",
              "28     1\n",
              "52     1\n",
              "53     1\n",
              "Name: location, Length: 71, dtype: int64"
            ]
          },
          "metadata": {},
          "execution_count": 468
        }
      ]
    },
    {
      "cell_type": "code",
      "source": [
        "x=av_df.drop(['Price'],axis=1)\n",
        "y=av_df['Price']"
      ],
      "metadata": {
        "id": "nlBpGkumvgEh"
      },
      "execution_count": null,
      "outputs": []
    },
    {
      "cell_type": "code",
      "source": [
        "from sklearn.linear_model import LinearRegression\n",
        "lr=LinearRegression()"
      ],
      "metadata": {
        "id": "ohv8gELfwK2g"
      },
      "execution_count": null,
      "outputs": []
    },
    {
      "cell_type": "code",
      "source": [
        "av_df.shape"
      ],
      "metadata": {
        "id": "ObnTxQrUkWL5"
      },
      "execution_count": null,
      "outputs": []
    },
    {
      "cell_type": "code",
      "source": [
        "from sklearn.model_selection import train_test_split,GridSearchCV\n",
        "x_train,x_test,y_train,y_test=train_test_split(x,y,test_size=0.3,random_state=42)"
      ],
      "metadata": {
        "id": "KMGPba-Iwj6S"
      },
      "execution_count": null,
      "outputs": []
    },
    {
      "cell_type": "code",
      "source": [
        "from sklearn.preprocessing import StandardScaler\n",
        "sc=StandardScaler()"
      ],
      "metadata": {
        "id": "NWitlwvmwVzB"
      },
      "execution_count": null,
      "outputs": []
    },
    {
      "cell_type": "code",
      "source": [
        "x_sc=sc.fit_transform(x_train)"
      ],
      "metadata": {
        "id": "2HHa4Gd6wd-E"
      },
      "execution_count": null,
      "outputs": []
    },
    {
      "cell_type": "code",
      "source": [
        "x_test_sc=sc.transform(x_test)"
      ],
      "metadata": {
        "id": "-U5upY0jwiQU"
      },
      "execution_count": null,
      "outputs": []
    },
    {
      "cell_type": "code",
      "source": [
        "lr.fit(x_sc,y_train)"
      ],
      "metadata": {
        "colab": {
          "base_uri": "https://localhost:8080/",
          "height": 74
        },
        "id": "eDkgCf07w274",
        "outputId": "c016f3a2-4994-4a8f-ab64-c90bf0b91a51"
      },
      "execution_count": null,
      "outputs": [
        {
          "output_type": "execute_result",
          "data": {
            "text/plain": [
              "LinearRegression()"
            ],
            "text/html": [
              "<style>#sk-container-id-45 {color: black;background-color: white;}#sk-container-id-45 pre{padding: 0;}#sk-container-id-45 div.sk-toggleable {background-color: white;}#sk-container-id-45 label.sk-toggleable__label {cursor: pointer;display: block;width: 100%;margin-bottom: 0;padding: 0.3em;box-sizing: border-box;text-align: center;}#sk-container-id-45 label.sk-toggleable__label-arrow:before {content: \"▸\";float: left;margin-right: 0.25em;color: #696969;}#sk-container-id-45 label.sk-toggleable__label-arrow:hover:before {color: black;}#sk-container-id-45 div.sk-estimator:hover label.sk-toggleable__label-arrow:before {color: black;}#sk-container-id-45 div.sk-toggleable__content {max-height: 0;max-width: 0;overflow: hidden;text-align: left;background-color: #f0f8ff;}#sk-container-id-45 div.sk-toggleable__content pre {margin: 0.2em;color: black;border-radius: 0.25em;background-color: #f0f8ff;}#sk-container-id-45 input.sk-toggleable__control:checked~div.sk-toggleable__content {max-height: 200px;max-width: 100%;overflow: auto;}#sk-container-id-45 input.sk-toggleable__control:checked~label.sk-toggleable__label-arrow:before {content: \"▾\";}#sk-container-id-45 div.sk-estimator input.sk-toggleable__control:checked~label.sk-toggleable__label {background-color: #d4ebff;}#sk-container-id-45 div.sk-label input.sk-toggleable__control:checked~label.sk-toggleable__label {background-color: #d4ebff;}#sk-container-id-45 input.sk-hidden--visually {border: 0;clip: rect(1px 1px 1px 1px);clip: rect(1px, 1px, 1px, 1px);height: 1px;margin: -1px;overflow: hidden;padding: 0;position: absolute;width: 1px;}#sk-container-id-45 div.sk-estimator {font-family: monospace;background-color: #f0f8ff;border: 1px dotted black;border-radius: 0.25em;box-sizing: border-box;margin-bottom: 0.5em;}#sk-container-id-45 div.sk-estimator:hover {background-color: #d4ebff;}#sk-container-id-45 div.sk-parallel-item::after {content: \"\";width: 100%;border-bottom: 1px solid gray;flex-grow: 1;}#sk-container-id-45 div.sk-label:hover label.sk-toggleable__label {background-color: #d4ebff;}#sk-container-id-45 div.sk-serial::before {content: \"\";position: absolute;border-left: 1px solid gray;box-sizing: border-box;top: 0;bottom: 0;left: 50%;z-index: 0;}#sk-container-id-45 div.sk-serial {display: flex;flex-direction: column;align-items: center;background-color: white;padding-right: 0.2em;padding-left: 0.2em;position: relative;}#sk-container-id-45 div.sk-item {position: relative;z-index: 1;}#sk-container-id-45 div.sk-parallel {display: flex;align-items: stretch;justify-content: center;background-color: white;position: relative;}#sk-container-id-45 div.sk-item::before, #sk-container-id-45 div.sk-parallel-item::before {content: \"\";position: absolute;border-left: 1px solid gray;box-sizing: border-box;top: 0;bottom: 0;left: 50%;z-index: -1;}#sk-container-id-45 div.sk-parallel-item {display: flex;flex-direction: column;z-index: 1;position: relative;background-color: white;}#sk-container-id-45 div.sk-parallel-item:first-child::after {align-self: flex-end;width: 50%;}#sk-container-id-45 div.sk-parallel-item:last-child::after {align-self: flex-start;width: 50%;}#sk-container-id-45 div.sk-parallel-item:only-child::after {width: 0;}#sk-container-id-45 div.sk-dashed-wrapped {border: 1px dashed gray;margin: 0 0.4em 0.5em 0.4em;box-sizing: border-box;padding-bottom: 0.4em;background-color: white;}#sk-container-id-45 div.sk-label label {font-family: monospace;font-weight: bold;display: inline-block;line-height: 1.2em;}#sk-container-id-45 div.sk-label-container {text-align: center;}#sk-container-id-45 div.sk-container {/* jupyter's `normalize.less` sets `[hidden] { display: none; }` but bootstrap.min.css set `[hidden] { display: none !important; }` so we also need the `!important` here to be able to override the default hidden behavior on the sphinx rendered scikit-learn.org. See: https://github.com/scikit-learn/scikit-learn/issues/21755 */display: inline-block !important;position: relative;}#sk-container-id-45 div.sk-text-repr-fallback {display: none;}</style><div id=\"sk-container-id-45\" class=\"sk-top-container\"><div class=\"sk-text-repr-fallback\"><pre>LinearRegression()</pre><b>In a Jupyter environment, please rerun this cell to show the HTML representation or trust the notebook. <br />On GitHub, the HTML representation is unable to render, please try loading this page with nbviewer.org.</b></div><div class=\"sk-container\" hidden><div class=\"sk-item\"><div class=\"sk-estimator sk-toggleable\"><input class=\"sk-toggleable__control sk-hidden--visually\" id=\"sk-estimator-id-99\" type=\"checkbox\" checked><label for=\"sk-estimator-id-99\" class=\"sk-toggleable__label sk-toggleable__label-arrow\">LinearRegression</label><div class=\"sk-toggleable__content\"><pre>LinearRegression()</pre></div></div></div></div></div>"
            ]
          },
          "metadata": {},
          "execution_count": 397
        }
      ]
    },
    {
      "cell_type": "code",
      "source": [
        "y_pred=lr.predict(x_test_sc)"
      ],
      "metadata": {
        "id": "jcJC-Szrw9nD"
      },
      "execution_count": null,
      "outputs": []
    },
    {
      "cell_type": "code",
      "source": [
        "from sklearn import metrics\n",
        "metrics.mean_squared_error(y_test,y_pred)"
      ],
      "metadata": {
        "colab": {
          "base_uri": "https://localhost:8080/"
        },
        "id": "rVOJbheaxBoq",
        "outputId": "19eb96f0-48c8-4a07-8dca-3167da6f3796"
      },
      "execution_count": null,
      "outputs": [
        {
          "output_type": "execute_result",
          "data": {
            "text/plain": [
              "25167.859143778638"
            ]
          },
          "metadata": {},
          "execution_count": 399
        }
      ]
    },
    {
      "cell_type": "code",
      "source": [
        "metrics.r2_score(y_test,y_pred)"
      ],
      "metadata": {
        "colab": {
          "base_uri": "https://localhost:8080/"
        },
        "id": "_e2wMCqwxMHE",
        "outputId": "91d92eaf-4f54-4346-a4f4-b0f9d373f982"
      },
      "execution_count": null,
      "outputs": [
        {
          "output_type": "execute_result",
          "data": {
            "text/plain": [
              "0.03225649404342701"
            ]
          },
          "metadata": {},
          "execution_count": 400
        }
      ]
    },
    {
      "cell_type": "markdown",
      "source": [
        "RandomForestRegressor"
      ],
      "metadata": {
        "id": "8u_dqnrzlOPX"
      }
    },
    {
      "cell_type": "code",
      "source": [
        "from sklearn.ensemble import RandomForestRegressor"
      ],
      "metadata": {
        "id": "l_8GkfOdxgEo"
      },
      "execution_count": null,
      "outputs": []
    },
    {
      "cell_type": "code",
      "source": [
        "rf=RandomForestRegressor(random_state=42)"
      ],
      "metadata": {
        "id": "h_RVnvCCxmFE"
      },
      "execution_count": null,
      "outputs": []
    },
    {
      "cell_type": "code",
      "source": [
        "param_grid={\n",
        "    'n_estimators':[50,100,200],\n",
        "    'max_depth':[None,10,20],\n",
        "    'min_samples_split':[2,5,10],\n",
        "    'min_samples_leaf':[1,2,4],\n",
        "    'max_features':['auto','sqrt','log2']\n",
        "}"
      ],
      "metadata": {
        "id": "kXt0KtoixqjH"
      },
      "execution_count": null,
      "outputs": []
    },
    {
      "cell_type": "code",
      "source": [
        "grid_search=GridSearchCV(rf,param_grid,cv=5,scoring='neg_mean_squared_error')"
      ],
      "metadata": {
        "id": "em6OvrMVyEYv"
      },
      "execution_count": null,
      "outputs": []
    },
    {
      "cell_type": "code",
      "source": [
        "grid_search.fit(x_sc,y_train)"
      ],
      "metadata": {
        "id": "wRykWUZzyXCX"
      },
      "execution_count": null,
      "outputs": []
    },
    {
      "cell_type": "code",
      "source": [
        "model=grid_search.best_estimator_"
      ],
      "metadata": {
        "id": "Ctz7bzJEydtk"
      },
      "execution_count": null,
      "outputs": []
    },
    {
      "cell_type": "code",
      "source": [
        "Y_pred=model.predict(x_test_sc)"
      ],
      "metadata": {
        "id": "atA1umvczjnf"
      },
      "execution_count": null,
      "outputs": []
    },
    {
      "cell_type": "code",
      "source": [
        "mse = metrics.mean_squared_error(y_test, Y_pred)\n",
        "print(f'Best Model Mean Squared Error: {mse}')"
      ],
      "metadata": {
        "colab": {
          "base_uri": "https://localhost:8080/"
        },
        "id": "bPm9PpQLz3T-",
        "outputId": "4614a2b4-cb82-45e3-d941-ae47a3a28406"
      },
      "execution_count": null,
      "outputs": [
        {
          "output_type": "stream",
          "name": "stdout",
          "text": [
            "Best Model Mean Squared Error: 22528.322714705453\n"
          ]
        }
      ]
    },
    {
      "cell_type": "code",
      "source": [
        "metrics.r2_score(y_test,Y_pred)"
      ],
      "metadata": {
        "colab": {
          "base_uri": "https://localhost:8080/"
        },
        "id": "qcJY_MNaFFEn",
        "outputId": "ef70c140-c9d1-440f-9cc3-a54ad812e667"
      },
      "execution_count": null,
      "outputs": [
        {
          "output_type": "execute_result",
          "data": {
            "text/plain": [
              "0.13375079371264653"
            ]
          },
          "metadata": {},
          "execution_count": 409
        }
      ]
    },
    {
      "cell_type": "code",
      "source": [
        "import joblib\n",
        "model_name='trained_1'\n",
        "load=joblib.dump(model,model_name)"
      ],
      "metadata": {
        "id": "A503uTErGtdC"
      },
      "execution_count": null,
      "outputs": []
    },
    {
      "cell_type": "code",
      "source": [
        "load=joblib.load(model_name)\n",
        "e1=3#Icreames\n",
        "e2=8#\n",
        "input_data=[[e1,e2]]\n",
        "\n",
        "scale_input=sc.transform(input_data)"
      ],
      "metadata": {
        "colab": {
          "base_uri": "https://localhost:8080/"
        },
        "id": "_HtjpyHYG_Bg",
        "outputId": "ed6ce88a-cc69-47fa-90c9-fc9d67254152"
      },
      "execution_count": null,
      "outputs": [
        {
          "output_type": "stream",
          "name": "stderr",
          "text": [
            "/usr/local/lib/python3.10/dist-packages/sklearn/base.py:439: UserWarning: X does not have valid feature names, but StandardScaler was fitted with feature names\n",
            "  warnings.warn(\n"
          ]
        }
      ]
    },
    {
      "cell_type": "code",
      "source": [
        "pred=load.predict(scale_input)"
      ],
      "metadata": {
        "id": "qe7l3ynVIyjK"
      },
      "execution_count": null,
      "outputs": []
    },
    {
      "cell_type": "code",
      "source": [
        "print(pred[0])"
      ],
      "metadata": {
        "colab": {
          "base_uri": "https://localhost:8080/"
        },
        "id": "D9qS91z3I6PB",
        "outputId": "2cb8347a-5d28-4fbf-e554-222c781be780"
      },
      "execution_count": null,
      "outputs": [
        {
          "output_type": "stream",
          "name": "stdout",
          "text": [
            "452.3867650739495\n"
          ]
        }
      ]
    },
    {
      "cell_type": "code",
      "source": [
        "df['location'].value_counts()"
      ],
      "metadata": {
        "id": "ncwVdzOpGtZt"
      },
      "execution_count": null,
      "outputs": []
    },
    {
      "cell_type": "markdown",
      "source": [
        "#GradientBoostingRegressor"
      ],
      "metadata": {
        "id": "Qejacb7-DAnc"
      }
    },
    {
      "cell_type": "code",
      "source": [
        "from sklearn.ensemble import GradientBoostingRegressor"
      ],
      "metadata": {
        "id": "PpX6Cr6w0BPI"
      },
      "execution_count": null,
      "outputs": []
    },
    {
      "cell_type": "code",
      "source": [
        "br=GradientBoostingRegressor(random_state=42)"
      ],
      "metadata": {
        "id": "eTHIqb7K0lvk"
      },
      "execution_count": null,
      "outputs": []
    },
    {
      "cell_type": "code",
      "source": [
        "param = {\n",
        "    'n_estimators': [30,40,50],\n",
        "    'learning_rate':[0.01,0.1,0.2],\n",
        "    'max_depth': [3, 4, 5, 6, 7, 8, 9],\n",
        "    'min_samples_split': [2, 5, 10, 15, 20],\n",
        "    'min_samples_leaf': [7, 8, 9, 11, 13],\n",
        "    'subsample':[0.2,0.3,0.4,0.5,0.6],\n",
        "    'max_features':[0.5]\n",
        "}"
      ],
      "metadata": {
        "id": "hTZea6MR0sUs"
      },
      "execution_count": null,
      "outputs": []
    },
    {
      "cell_type": "code",
      "source": [
        "grid_s=GridSearchCV(br,param,cv=5,scoring='neg_mean_squared_error')"
      ],
      "metadata": {
        "id": "RjXgLf1Z0vjs"
      },
      "execution_count": null,
      "outputs": []
    },
    {
      "cell_type": "code",
      "source": [
        "grid_s.fit(x_sc,y_train)"
      ],
      "metadata": {
        "colab": {
          "base_uri": "https://localhost:8080/",
          "height": 163
        },
        "id": "xUKm7iTV00Dc",
        "outputId": "42603bca-66ff-4b3d-a748-5d7310aaef78"
      },
      "execution_count": null,
      "outputs": [
        {
          "output_type": "execute_result",
          "data": {
            "text/plain": [
              "GridSearchCV(cv=5, estimator=GradientBoostingRegressor(random_state=42),\n",
              "             param_grid={'learning_rate': [0.01, 0.1, 0.2],\n",
              "                         'max_depth': [3, 4, 5, 6, 7, 8, 9],\n",
              "                         'max_features': [0.5],\n",
              "                         'min_samples_leaf': [7, 8, 9, 11, 13],\n",
              "                         'min_samples_split': [2, 5, 10, 15, 20],\n",
              "                         'n_estimators': [30, 40, 50],\n",
              "                         'subsample': [0.2, 0.3, 0.4, 0.5, 0.6]},\n",
              "             scoring='neg_mean_squared_error')"
            ],
            "text/html": [
              "<style>#sk-container-id-54 {color: black;background-color: white;}#sk-container-id-54 pre{padding: 0;}#sk-container-id-54 div.sk-toggleable {background-color: white;}#sk-container-id-54 label.sk-toggleable__label {cursor: pointer;display: block;width: 100%;margin-bottom: 0;padding: 0.3em;box-sizing: border-box;text-align: center;}#sk-container-id-54 label.sk-toggleable__label-arrow:before {content: \"▸\";float: left;margin-right: 0.25em;color: #696969;}#sk-container-id-54 label.sk-toggleable__label-arrow:hover:before {color: black;}#sk-container-id-54 div.sk-estimator:hover label.sk-toggleable__label-arrow:before {color: black;}#sk-container-id-54 div.sk-toggleable__content {max-height: 0;max-width: 0;overflow: hidden;text-align: left;background-color: #f0f8ff;}#sk-container-id-54 div.sk-toggleable__content pre {margin: 0.2em;color: black;border-radius: 0.25em;background-color: #f0f8ff;}#sk-container-id-54 input.sk-toggleable__control:checked~div.sk-toggleable__content {max-height: 200px;max-width: 100%;overflow: auto;}#sk-container-id-54 input.sk-toggleable__control:checked~label.sk-toggleable__label-arrow:before {content: \"▾\";}#sk-container-id-54 div.sk-estimator input.sk-toggleable__control:checked~label.sk-toggleable__label {background-color: #d4ebff;}#sk-container-id-54 div.sk-label input.sk-toggleable__control:checked~label.sk-toggleable__label {background-color: #d4ebff;}#sk-container-id-54 input.sk-hidden--visually {border: 0;clip: rect(1px 1px 1px 1px);clip: rect(1px, 1px, 1px, 1px);height: 1px;margin: -1px;overflow: hidden;padding: 0;position: absolute;width: 1px;}#sk-container-id-54 div.sk-estimator {font-family: monospace;background-color: #f0f8ff;border: 1px dotted black;border-radius: 0.25em;box-sizing: border-box;margin-bottom: 0.5em;}#sk-container-id-54 div.sk-estimator:hover {background-color: #d4ebff;}#sk-container-id-54 div.sk-parallel-item::after {content: \"\";width: 100%;border-bottom: 1px solid gray;flex-grow: 1;}#sk-container-id-54 div.sk-label:hover label.sk-toggleable__label {background-color: #d4ebff;}#sk-container-id-54 div.sk-serial::before {content: \"\";position: absolute;border-left: 1px solid gray;box-sizing: border-box;top: 0;bottom: 0;left: 50%;z-index: 0;}#sk-container-id-54 div.sk-serial {display: flex;flex-direction: column;align-items: center;background-color: white;padding-right: 0.2em;padding-left: 0.2em;position: relative;}#sk-container-id-54 div.sk-item {position: relative;z-index: 1;}#sk-container-id-54 div.sk-parallel {display: flex;align-items: stretch;justify-content: center;background-color: white;position: relative;}#sk-container-id-54 div.sk-item::before, #sk-container-id-54 div.sk-parallel-item::before {content: \"\";position: absolute;border-left: 1px solid gray;box-sizing: border-box;top: 0;bottom: 0;left: 50%;z-index: -1;}#sk-container-id-54 div.sk-parallel-item {display: flex;flex-direction: column;z-index: 1;position: relative;background-color: white;}#sk-container-id-54 div.sk-parallel-item:first-child::after {align-self: flex-end;width: 50%;}#sk-container-id-54 div.sk-parallel-item:last-child::after {align-self: flex-start;width: 50%;}#sk-container-id-54 div.sk-parallel-item:only-child::after {width: 0;}#sk-container-id-54 div.sk-dashed-wrapped {border: 1px dashed gray;margin: 0 0.4em 0.5em 0.4em;box-sizing: border-box;padding-bottom: 0.4em;background-color: white;}#sk-container-id-54 div.sk-label label {font-family: monospace;font-weight: bold;display: inline-block;line-height: 1.2em;}#sk-container-id-54 div.sk-label-container {text-align: center;}#sk-container-id-54 div.sk-container {/* jupyter's `normalize.less` sets `[hidden] { display: none; }` but bootstrap.min.css set `[hidden] { display: none !important; }` so we also need the `!important` here to be able to override the default hidden behavior on the sphinx rendered scikit-learn.org. See: https://github.com/scikit-learn/scikit-learn/issues/21755 */display: inline-block !important;position: relative;}#sk-container-id-54 div.sk-text-repr-fallback {display: none;}</style><div id=\"sk-container-id-54\" class=\"sk-top-container\"><div class=\"sk-text-repr-fallback\"><pre>GridSearchCV(cv=5, estimator=GradientBoostingRegressor(random_state=42),\n",
              "             param_grid={&#x27;learning_rate&#x27;: [0.01, 0.1, 0.2],\n",
              "                         &#x27;max_depth&#x27;: [3, 4, 5, 6, 7, 8, 9],\n",
              "                         &#x27;max_features&#x27;: [0.5],\n",
              "                         &#x27;min_samples_leaf&#x27;: [7, 8, 9, 11, 13],\n",
              "                         &#x27;min_samples_split&#x27;: [2, 5, 10, 15, 20],\n",
              "                         &#x27;n_estimators&#x27;: [30, 40, 50],\n",
              "                         &#x27;subsample&#x27;: [0.2, 0.3, 0.4, 0.5, 0.6]},\n",
              "             scoring=&#x27;neg_mean_squared_error&#x27;)</pre><b>In a Jupyter environment, please rerun this cell to show the HTML representation or trust the notebook. <br />On GitHub, the HTML representation is unable to render, please try loading this page with nbviewer.org.</b></div><div class=\"sk-container\" hidden><div class=\"sk-item sk-dashed-wrapped\"><div class=\"sk-label-container\"><div class=\"sk-label sk-toggleable\"><input class=\"sk-toggleable__control sk-hidden--visually\" id=\"sk-estimator-id-124\" type=\"checkbox\" ><label for=\"sk-estimator-id-124\" class=\"sk-toggleable__label sk-toggleable__label-arrow\">GridSearchCV</label><div class=\"sk-toggleable__content\"><pre>GridSearchCV(cv=5, estimator=GradientBoostingRegressor(random_state=42),\n",
              "             param_grid={&#x27;learning_rate&#x27;: [0.01, 0.1, 0.2],\n",
              "                         &#x27;max_depth&#x27;: [3, 4, 5, 6, 7, 8, 9],\n",
              "                         &#x27;max_features&#x27;: [0.5],\n",
              "                         &#x27;min_samples_leaf&#x27;: [7, 8, 9, 11, 13],\n",
              "                         &#x27;min_samples_split&#x27;: [2, 5, 10, 15, 20],\n",
              "                         &#x27;n_estimators&#x27;: [30, 40, 50],\n",
              "                         &#x27;subsample&#x27;: [0.2, 0.3, 0.4, 0.5, 0.6]},\n",
              "             scoring=&#x27;neg_mean_squared_error&#x27;)</pre></div></div></div><div class=\"sk-parallel\"><div class=\"sk-parallel-item\"><div class=\"sk-item\"><div class=\"sk-label-container\"><div class=\"sk-label sk-toggleable\"><input class=\"sk-toggleable__control sk-hidden--visually\" id=\"sk-estimator-id-125\" type=\"checkbox\" ><label for=\"sk-estimator-id-125\" class=\"sk-toggleable__label sk-toggleable__label-arrow\">estimator: GradientBoostingRegressor</label><div class=\"sk-toggleable__content\"><pre>GradientBoostingRegressor(random_state=42)</pre></div></div></div><div class=\"sk-serial\"><div class=\"sk-item\"><div class=\"sk-estimator sk-toggleable\"><input class=\"sk-toggleable__control sk-hidden--visually\" id=\"sk-estimator-id-126\" type=\"checkbox\" ><label for=\"sk-estimator-id-126\" class=\"sk-toggleable__label sk-toggleable__label-arrow\">GradientBoostingRegressor</label><div class=\"sk-toggleable__content\"><pre>GradientBoostingRegressor(random_state=42)</pre></div></div></div></div></div></div></div></div></div></div>"
            ]
          },
          "metadata": {},
          "execution_count": 456
        }
      ]
    },
    {
      "cell_type": "code",
      "source": [
        "b_model=grid_s.best_estimator_"
      ],
      "metadata": {
        "id": "VfQTxGQj1FO5"
      },
      "execution_count": null,
      "outputs": []
    },
    {
      "cell_type": "code",
      "source": [
        "y_pr=b_model.predict(x_test_sc)"
      ],
      "metadata": {
        "id": "-ffnkE7R1JcJ"
      },
      "execution_count": null,
      "outputs": []
    },
    {
      "cell_type": "code",
      "source": [
        "metrics.r2_score(y_test,y_pr)"
      ],
      "metadata": {
        "colab": {
          "base_uri": "https://localhost:8080/"
        },
        "id": "QoDGdhO31Qob",
        "outputId": "da888fb0-1b1a-4451-ec62-3a4396ba0975"
      },
      "execution_count": null,
      "outputs": [
        {
          "output_type": "execute_result",
          "data": {
            "text/plain": [
              "0.1370397519629346"
            ]
          },
          "metadata": {},
          "execution_count": 459
        }
      ]
    },
    {
      "cell_type": "code",
      "source": [
        "from xgboost import XGBRegressor\n",
        "xg=XGBRegressor(random_state=42)\n",
        "param_xgb = {\n",
        "    'n_estimators': [100, 200, 300],\n",
        "    'learning_rate': [0.01, 0.1, 0.2],\n",
        "    'max_depth': [3, 4, 5],\n",
        "    'min_child_weight': [1, 2, 4],\n",
        "    'subsample':[0.8,0.9,1.0],\n",
        "    'colsample_bytree':[0.8,0.9,1.0],\n",
        "    'gamma': [0, 0.1, 0.2]\n",
        "}"
      ],
      "metadata": {
        "id": "7K6M10P94wTe"
      },
      "execution_count": null,
      "outputs": []
    },
    {
      "cell_type": "code",
      "source": [
        "grid_x=GridSearchCV(xg,param_xgb,cv=5,scoring='neg_mean_squared_error')"
      ],
      "metadata": {
        "id": "-JPABbUzVoNP"
      },
      "execution_count": null,
      "outputs": []
    },
    {
      "cell_type": "code",
      "source": [
        "grid_x.fit(x_sc,y_train)"
      ],
      "metadata": {
        "colab": {
          "base_uri": "https://localhost:8080/",
          "height": 117
        },
        "id": "XGdvIX2hVv6c",
        "outputId": "42dfadaf-9c06-44ee-8d6c-62580344ced5"
      },
      "execution_count": null,
      "outputs": [
        {
          "output_type": "execute_result",
          "data": {
            "text/plain": [
              "GridSearchCV(cv=5,\n",
              "             estimator=XGBRegressor(base_score=None, booster=None,\n",
              "                                    callbacks=None, colsample_bylevel=None,\n",
              "                                    colsample_bynode=None,\n",
              "                                    colsample_bytree=None,\n",
              "                                    early_stopping_rounds=None,\n",
              "                                    enable_categorical=False, eval_metric=None,\n",
              "                                    feature_types=None, gamma=None, gpu_id=None,\n",
              "                                    grow_policy=None, importance_type=None,\n",
              "                                    interaction_constraints=None,\n",
              "                                    learning_rate=None, m...\n",
              "                                    min_child_weight=None, missing=nan,\n",
              "                                    monotone_constraints=None, n_estimators=100,\n",
              "                                    n_jobs=None, num_parallel_tree=None,\n",
              "                                    predictor=None, random_state=42, ...),\n",
              "             param_grid={'colsample_bytree': [0.8, 0.9, 1.0],\n",
              "                         'gamma': [0, 0.1, 0.2],\n",
              "                         'learning_rate': [0.01, 0.1, 0.2],\n",
              "                         'max_depth': [3, 4, 5], 'min_child_weight': [1, 2, 4],\n",
              "                         'n_estimators': [100, 200, 300],\n",
              "                         'subsample': [0.8, 0.9, 1.0]},\n",
              "             scoring='neg_mean_squared_error')"
            ],
            "text/html": [
              "<style>#sk-container-id-55 {color: black;background-color: white;}#sk-container-id-55 pre{padding: 0;}#sk-container-id-55 div.sk-toggleable {background-color: white;}#sk-container-id-55 label.sk-toggleable__label {cursor: pointer;display: block;width: 100%;margin-bottom: 0;padding: 0.3em;box-sizing: border-box;text-align: center;}#sk-container-id-55 label.sk-toggleable__label-arrow:before {content: \"▸\";float: left;margin-right: 0.25em;color: #696969;}#sk-container-id-55 label.sk-toggleable__label-arrow:hover:before {color: black;}#sk-container-id-55 div.sk-estimator:hover label.sk-toggleable__label-arrow:before {color: black;}#sk-container-id-55 div.sk-toggleable__content {max-height: 0;max-width: 0;overflow: hidden;text-align: left;background-color: #f0f8ff;}#sk-container-id-55 div.sk-toggleable__content pre {margin: 0.2em;color: black;border-radius: 0.25em;background-color: #f0f8ff;}#sk-container-id-55 input.sk-toggleable__control:checked~div.sk-toggleable__content {max-height: 200px;max-width: 100%;overflow: auto;}#sk-container-id-55 input.sk-toggleable__control:checked~label.sk-toggleable__label-arrow:before {content: \"▾\";}#sk-container-id-55 div.sk-estimator input.sk-toggleable__control:checked~label.sk-toggleable__label {background-color: #d4ebff;}#sk-container-id-55 div.sk-label input.sk-toggleable__control:checked~label.sk-toggleable__label {background-color: #d4ebff;}#sk-container-id-55 input.sk-hidden--visually {border: 0;clip: rect(1px 1px 1px 1px);clip: rect(1px, 1px, 1px, 1px);height: 1px;margin: -1px;overflow: hidden;padding: 0;position: absolute;width: 1px;}#sk-container-id-55 div.sk-estimator {font-family: monospace;background-color: #f0f8ff;border: 1px dotted black;border-radius: 0.25em;box-sizing: border-box;margin-bottom: 0.5em;}#sk-container-id-55 div.sk-estimator:hover {background-color: #d4ebff;}#sk-container-id-55 div.sk-parallel-item::after {content: \"\";width: 100%;border-bottom: 1px solid gray;flex-grow: 1;}#sk-container-id-55 div.sk-label:hover label.sk-toggleable__label {background-color: #d4ebff;}#sk-container-id-55 div.sk-serial::before {content: \"\";position: absolute;border-left: 1px solid gray;box-sizing: border-box;top: 0;bottom: 0;left: 50%;z-index: 0;}#sk-container-id-55 div.sk-serial {display: flex;flex-direction: column;align-items: center;background-color: white;padding-right: 0.2em;padding-left: 0.2em;position: relative;}#sk-container-id-55 div.sk-item {position: relative;z-index: 1;}#sk-container-id-55 div.sk-parallel {display: flex;align-items: stretch;justify-content: center;background-color: white;position: relative;}#sk-container-id-55 div.sk-item::before, #sk-container-id-55 div.sk-parallel-item::before {content: \"\";position: absolute;border-left: 1px solid gray;box-sizing: border-box;top: 0;bottom: 0;left: 50%;z-index: -1;}#sk-container-id-55 div.sk-parallel-item {display: flex;flex-direction: column;z-index: 1;position: relative;background-color: white;}#sk-container-id-55 div.sk-parallel-item:first-child::after {align-self: flex-end;width: 50%;}#sk-container-id-55 div.sk-parallel-item:last-child::after {align-self: flex-start;width: 50%;}#sk-container-id-55 div.sk-parallel-item:only-child::after {width: 0;}#sk-container-id-55 div.sk-dashed-wrapped {border: 1px dashed gray;margin: 0 0.4em 0.5em 0.4em;box-sizing: border-box;padding-bottom: 0.4em;background-color: white;}#sk-container-id-55 div.sk-label label {font-family: monospace;font-weight: bold;display: inline-block;line-height: 1.2em;}#sk-container-id-55 div.sk-label-container {text-align: center;}#sk-container-id-55 div.sk-container {/* jupyter's `normalize.less` sets `[hidden] { display: none; }` but bootstrap.min.css set `[hidden] { display: none !important; }` so we also need the `!important` here to be able to override the default hidden behavior on the sphinx rendered scikit-learn.org. See: https://github.com/scikit-learn/scikit-learn/issues/21755 */display: inline-block !important;position: relative;}#sk-container-id-55 div.sk-text-repr-fallback {display: none;}</style><div id=\"sk-container-id-55\" class=\"sk-top-container\"><div class=\"sk-text-repr-fallback\"><pre>GridSearchCV(cv=5,\n",
              "             estimator=XGBRegressor(base_score=None, booster=None,\n",
              "                                    callbacks=None, colsample_bylevel=None,\n",
              "                                    colsample_bynode=None,\n",
              "                                    colsample_bytree=None,\n",
              "                                    early_stopping_rounds=None,\n",
              "                                    enable_categorical=False, eval_metric=None,\n",
              "                                    feature_types=None, gamma=None, gpu_id=None,\n",
              "                                    grow_policy=None, importance_type=None,\n",
              "                                    interaction_constraints=None,\n",
              "                                    learning_rate=None, m...\n",
              "                                    min_child_weight=None, missing=nan,\n",
              "                                    monotone_constraints=None, n_estimators=100,\n",
              "                                    n_jobs=None, num_parallel_tree=None,\n",
              "                                    predictor=None, random_state=42, ...),\n",
              "             param_grid={&#x27;colsample_bytree&#x27;: [0.8, 0.9, 1.0],\n",
              "                         &#x27;gamma&#x27;: [0, 0.1, 0.2],\n",
              "                         &#x27;learning_rate&#x27;: [0.01, 0.1, 0.2],\n",
              "                         &#x27;max_depth&#x27;: [3, 4, 5], &#x27;min_child_weight&#x27;: [1, 2, 4],\n",
              "                         &#x27;n_estimators&#x27;: [100, 200, 300],\n",
              "                         &#x27;subsample&#x27;: [0.8, 0.9, 1.0]},\n",
              "             scoring=&#x27;neg_mean_squared_error&#x27;)</pre><b>In a Jupyter environment, please rerun this cell to show the HTML representation or trust the notebook. <br />On GitHub, the HTML representation is unable to render, please try loading this page with nbviewer.org.</b></div><div class=\"sk-container\" hidden><div class=\"sk-item sk-dashed-wrapped\"><div class=\"sk-label-container\"><div class=\"sk-label sk-toggleable\"><input class=\"sk-toggleable__control sk-hidden--visually\" id=\"sk-estimator-id-127\" type=\"checkbox\" ><label for=\"sk-estimator-id-127\" class=\"sk-toggleable__label sk-toggleable__label-arrow\">GridSearchCV</label><div class=\"sk-toggleable__content\"><pre>GridSearchCV(cv=5,\n",
              "             estimator=XGBRegressor(base_score=None, booster=None,\n",
              "                                    callbacks=None, colsample_bylevel=None,\n",
              "                                    colsample_bynode=None,\n",
              "                                    colsample_bytree=None,\n",
              "                                    early_stopping_rounds=None,\n",
              "                                    enable_categorical=False, eval_metric=None,\n",
              "                                    feature_types=None, gamma=None, gpu_id=None,\n",
              "                                    grow_policy=None, importance_type=None,\n",
              "                                    interaction_constraints=None,\n",
              "                                    learning_rate=None, m...\n",
              "                                    min_child_weight=None, missing=nan,\n",
              "                                    monotone_constraints=None, n_estimators=100,\n",
              "                                    n_jobs=None, num_parallel_tree=None,\n",
              "                                    predictor=None, random_state=42, ...),\n",
              "             param_grid={&#x27;colsample_bytree&#x27;: [0.8, 0.9, 1.0],\n",
              "                         &#x27;gamma&#x27;: [0, 0.1, 0.2],\n",
              "                         &#x27;learning_rate&#x27;: [0.01, 0.1, 0.2],\n",
              "                         &#x27;max_depth&#x27;: [3, 4, 5], &#x27;min_child_weight&#x27;: [1, 2, 4],\n",
              "                         &#x27;n_estimators&#x27;: [100, 200, 300],\n",
              "                         &#x27;subsample&#x27;: [0.8, 0.9, 1.0]},\n",
              "             scoring=&#x27;neg_mean_squared_error&#x27;)</pre></div></div></div><div class=\"sk-parallel\"><div class=\"sk-parallel-item\"><div class=\"sk-item\"><div class=\"sk-label-container\"><div class=\"sk-label sk-toggleable\"><input class=\"sk-toggleable__control sk-hidden--visually\" id=\"sk-estimator-id-128\" type=\"checkbox\" ><label for=\"sk-estimator-id-128\" class=\"sk-toggleable__label sk-toggleable__label-arrow\">estimator: XGBRegressor</label><div class=\"sk-toggleable__content\"><pre>XGBRegressor(base_score=None, booster=None, callbacks=None,\n",
              "             colsample_bylevel=None, colsample_bynode=None,\n",
              "             colsample_bytree=None, early_stopping_rounds=None,\n",
              "             enable_categorical=False, eval_metric=None, feature_types=None,\n",
              "             gamma=None, gpu_id=None, grow_policy=None, importance_type=None,\n",
              "             interaction_constraints=None, learning_rate=None, max_bin=None,\n",
              "             max_cat_threshold=None, max_cat_to_onehot=None,\n",
              "             max_delta_step=None, max_depth=None, max_leaves=None,\n",
              "             min_child_weight=None, missing=nan, monotone_constraints=None,\n",
              "             n_estimators=100, n_jobs=None, num_parallel_tree=None,\n",
              "             predictor=None, random_state=42, ...)</pre></div></div></div><div class=\"sk-serial\"><div class=\"sk-item\"><div class=\"sk-estimator sk-toggleable\"><input class=\"sk-toggleable__control sk-hidden--visually\" id=\"sk-estimator-id-129\" type=\"checkbox\" ><label for=\"sk-estimator-id-129\" class=\"sk-toggleable__label sk-toggleable__label-arrow\">XGBRegressor</label><div class=\"sk-toggleable__content\"><pre>XGBRegressor(base_score=None, booster=None, callbacks=None,\n",
              "             colsample_bylevel=None, colsample_bynode=None,\n",
              "             colsample_bytree=None, early_stopping_rounds=None,\n",
              "             enable_categorical=False, eval_metric=None, feature_types=None,\n",
              "             gamma=None, gpu_id=None, grow_policy=None, importance_type=None,\n",
              "             interaction_constraints=None, learning_rate=None, max_bin=None,\n",
              "             max_cat_threshold=None, max_cat_to_onehot=None,\n",
              "             max_delta_step=None, max_depth=None, max_leaves=None,\n",
              "             min_child_weight=None, missing=nan, monotone_constraints=None,\n",
              "             n_estimators=100, n_jobs=None, num_parallel_tree=None,\n",
              "             predictor=None, random_state=42, ...)</pre></div></div></div></div></div></div></div></div></div></div>"
            ]
          },
          "metadata": {},
          "execution_count": 463
        }
      ]
    },
    {
      "cell_type": "code",
      "source": [
        "best_x=grid_x.best_estimator_"
      ],
      "metadata": {
        "id": "vGQ-uEp4V3WT"
      },
      "execution_count": null,
      "outputs": []
    },
    {
      "cell_type": "code",
      "source": [
        "y_pr_x=best_x.predict(x_test_sc)"
      ],
      "metadata": {
        "id": "UWQQezaOV33F"
      },
      "execution_count": null,
      "outputs": []
    },
    {
      "cell_type": "code",
      "source": [
        "metrics.r2_score(y_test,y_pr_x)"
      ],
      "metadata": {
        "colab": {
          "base_uri": "https://localhost:8080/"
        },
        "id": "wFpo9gefV3TC",
        "outputId": "3f329549-e1eb-4532-d635-30fc4ee3a414"
      },
      "execution_count": null,
      "outputs": [
        {
          "output_type": "execute_result",
          "data": {
            "text/plain": [
              "0.13034825526449367"
            ]
          },
          "metadata": {},
          "execution_count": 466
        }
      ]
    },
    {
      "cell_type": "code",
      "source": [],
      "metadata": {
        "id": "mb7IOVGcWsSc"
      },
      "execution_count": null,
      "outputs": []
    }
  ]
}